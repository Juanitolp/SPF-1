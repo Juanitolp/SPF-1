{
 "cells": [
  {
   "cell_type": "markdown",
   "metadata": {},
   "source": [
    "# Trabajo TEMA - 1 - Aplicaciones de la Simulación\n",
    "## Alfonso Aguilar Aguirre y Pablo Ángel Mendoza Aguirre\n",
    "#### 17/septiembre/2018"
   ]
  },
  {
   "cell_type": "markdown",
   "metadata": {},
   "source": [
    "## Problema 1"
   ]
  },
  {
   "cell_type": "markdown",
   "metadata": {},
   "source": [
    "1. Un juego de lanzamiento de una moneda: Eres el afortunado ganador de un concurso de sorteos. Su premio es unas vacaciones con todos los gastos pagados en un hotel importante en Las Vegas, incluyendo algunas fichas para apostar en el casino del hotel. Al ingresar al casino, descubres que, adem ́as de los juegos habituales (blackjack, ruleta, etc.), ofrecen un nuevo juego interesante con las siguientes reglas. Reglas del juego.\n",
    "> 1. Cada jugada del juego consiste en lanzar repetidamente una moneda imparcial hasta que la diferencia entre el número de caras lanzadas y el número de sellos es 3.\n",
    "> 2. Si decides jugar el juego, debes pagar 1 dólar por cada lanzamiento de la moneda. No puedes salir durante una jugada del juego.\n",
    "> 3. Usted recibe 8 dólares al final de cada uno de los juego. Por lo tanto, ganas dinero si el número de lanzamientos requeridos es menor a 8, pero pierdes dinero si se requieren más de 8 lanzamientos. "
   ]
  },
  {
   "cell_type": "code",
   "execution_count": 113,
   "metadata": {},
   "outputs": [],
   "source": [
    "# Librerías\n",
    "import time\n",
    "import random\n",
    "import itertools\n",
    "import numpy as np\n",
    "import pandas as pd\n",
    "from scipy import stats\n",
    "#from random import randint\n",
    "from functools import reduce\n",
    "import matplotlib.pyplot as plt "
   ]
  },
  {
   "cell_type": "code",
   "execution_count": 125,
   "metadata": {},
   "outputs": [],
   "source": [
    "def Jugada(CT:'Costo por lanzamiento',diff:'Diferencia máxima entre caras y sellos',CI:'Capital inicial'):\n",
    "    '''Esta función representa una jugada de monedas, donde se lanza una moneda hasta que la diferencia de caras y ellos de un cierto valor. La función recibe el costo por cada lanzamiento, el beneficio del jugador al terminar la jugada y la diferencia máxima entre caras y sellos que limita el juego y da como resultado la cantidad de veces que se lazó la moneda y la ganancia o pérdida del jugador.'''\n",
    "    N = 1000 #numero maximo de lanzamientos de la funcion\n",
    "    x0 = 0  #pocision inicial\n",
    "    z = np.zeros(N) #vector de ceros que almacena los resultados (cara o sello)\n",
    "    z[0] = x0; #posicion inicial\n",
    "    z[1:] = np.random.choice([-1,1],N-1) #lanzamientos\n",
    "    x = reduce(lambda z1,z2: z1+z2,z) # diferencia entre caras y sellos\n",
    "    xx = [x0] # balance inicial de lanzamientos\n",
    "    [xx.append(xx[-1]+z[i+1]) for i in range(N-1)] # balance acumulado de lanzamientos\n",
    "    xx2=[] # lista con los tiros hasta que la diferencia de tiros es de 3\n",
    "    for i in range(N-1):\n",
    "        if np.abs(xx[i])<3:\n",
    "            xx2.append(xx[i])\n",
    "        else:\n",
    "            xx2.append(xx[i])\n",
    "            break\n",
    "    tiros = len(xx2)-1 #cantidad de tiros de la jugada\n",
    "    #RESULTADOS DE LA JUGADA\n",
    "    dp = CT*tiros #dinero pagado\n",
    "    bal = CI-dp # balance final de la jugada\n",
    "    return tiros,bal"
   ]
  },
  {
   "cell_type": "markdown",
   "metadata": {},
   "source": [
    "> 1. ¿Cúal es el promedio de tiradas hasta que termina un juego? ¿Cúal es su desviacíon estándar? (dibuja su histograma)."
   ]
  },
  {
   "cell_type": "code",
   "execution_count": 126,
   "metadata": {},
   "outputs": [
    {
     "name": "stdout",
     "output_type": "stream",
     "text": [
      "1.1- El promedio de tiros en una jugada es de:  8.892\n",
      "1.2- La desviación estándar de tiros en una jugada es de:  6.9053845656849555\n"
     ]
    },
    {
     "data": {
      "image/png": "[encoded data removed]",
      "text/plain": [
       "<Figure size 432x288 with 1 Axes>"
      ]
     },
     "metadata": {},
     "output_type": "display_data"
    }
   ],
   "source": [
    "#Juego 1\n",
    "n = 1000 #cantidad de veces que se apuesta\n",
    "balgfinal = [] #balance general al terminar las jugadas\n",
    "balfinal = [] #balance al terminar las jugadas\n",
    "tirosfinal = [] #tiros de las jugadas\n",
    "for i in range(n):\n",
    "    tiros,bal = Jugada(1,3,30) #funcion jugada apostando 1 peso,\n",
    "    tirosfinal.append(tiros)\n",
    "    balfinal.append(bal)\n",
    "print('1.1- El promedio de tiros en una jugada es de: ', np.mean(tirosfinal))\n",
    "print('1.2- La desviación estándar de tiros en una jugada es de: ', np.std(tirosfinal))\n",
    "plt.hist(tirosfinal,bins = 20, range=[0,100])\n",
    "plt.xlabel('Cantidad de tiros')\n",
    "plt.ylabel('Frecuencia')\n",
    "plt.title('Promedio de tiros en %i jugadas' %n)\n",
    "plt.show()"
   ]
  },
  {
   "cell_type": "markdown",
   "metadata": {},
   "source": [
    "> 2. Para el inciso anterior ¿Cúal es la probabilidad de que tires más de 10 veces para terminar un juego? ¿ y de que tires menos de 5 veces?.\n",
    "\n",
    "\n"
   ]
  },
  {
   "cell_type": "code",
   "execution_count": 119,
   "metadata": {},
   "outputs": [
    {
     "name": "stdout",
     "output_type": "stream",
     "text": [
      "2.1- La probabilidad para tirar más de 10 veces es:  0.312\n",
      "2.2- La probabilidad para tirar menos de 5 veces es:  0.246\n"
     ]
    }
   ],
   "source": [
    "probup10 = len(list(filter(lambda x: x>10,tirosfinal)))/len(tirosfinal)\n",
    "probdown5 = len(list(filter(lambda x: x<5,tirosfinal)))/len(tirosfinal)\n",
    "#probdown10 = len(list(filter(lambda x: x<=10,tirosfinal)))/len(tirosfinal)\n",
    "\n",
    "print('2.1- La probabilidad para tirar más de 10 veces es: ', probup10)\n",
    "print('2.2- La probabilidad para tirar menos de 5 veces es: ', probdown5 )"
   ]
  },
  {
   "cell_type": "markdown",
   "metadata": {},
   "source": [
    "> 3. Imagina que lanzas 100 tiros exactos la moneda. ¿Cúal es tu valor esperado de dinero ganado/perdido? ¿Y tu valor más probable?¿Cúal es la probabilidad de ganar dinero? (Grafica el histograma de simulaciones).\n"
   ]
  },
  {
   "cell_type": "code",
   "execution_count": 120,
   "metadata": {},
   "outputs": [
    {
     "name": "stdout",
     "output_type": "stream",
     "text": [
      "El valor esperado de dinero ganado/perdido es :  -12.38\n",
      "El valor más probable es :  [-13.]\n",
      "La probabilidad de ganar dinero es:  0.311\n"
     ]
    },
    {
     "data": {
      "image/png": "[encoded data removed]",
      "text/plain": [
       "<Figure size 432x288 with 1 Axes>"
      ]
     },
     "metadata": {},
     "output_type": "display_data"
    },
    {
     "data": {
      "image/png": "[encoded data removed]",
      "text/plain": [
       "<Figure size 432x288 with 1 Axes>"
      ]
     },
     "metadata": {},
     "output_type": "display_data"
    }
   ],
   "source": [
    "sim = 1000 #cantidad de simulaciones\n",
    "max_tir = 100 #lanzamientos máximos\n",
    "bal_ini = 30 # Capital Inicial\n",
    "a = [] #vector para guardar balances finales depues de 100 lanzamientos\n",
    "bal = bal_ini #se inicia con un capital inicial(se repite por facilidad en el ciclo)\n",
    "for j in range(sim+1): #simulara el juego \"sim\" veces\n",
    "    a.append(bal) #Aqui se guarda el balance despues de 100 lanzamientos\n",
    "    bal = 30 #capital inicial\n",
    "    tir = 0 #tiros iniciales\n",
    "    while tir <= max_tir: #ciclo que termia el juego depues de 100 lanzamientos\n",
    "        tiros,bal = Jugada(1, 3, bal) #la jugada\n",
    "        tir+=tiros #almacena el número de tiros\n",
    "        bal += 8 #Recompenza al final de la jugada\n",
    "b = a[1:] #elimina el primer balance que no es un resultado real de juego\n",
    "c = np.ones(len(b))*bal_ini #Vector de capital inicial para hacer ganancias/perdidas absolutas\n",
    "d = b-c #Ganancias/Perdidas en absoluto\n",
    "\n",
    "PL = np.mean(d) #Promedio de Ganancias/Perdidas\n",
    "MP = stats.mode(d) #El valor más probable\n",
    "Ganador = len(list(filter(lambda x: x>0,d)))/len(d) #Probabilidad de Ganar\n",
    "print('El valor esperado de dinero ganado/perdido es : ', PL)\n",
    "print('El valor más probable es : ', MP[0])\n",
    "print('La probabilidad de ganar dinero es: ', Ganador)\n",
    "#Grafica Balance Final del Jugador Despues de 100 lanzamientos\n",
    "plt.hist(b,bins = 50)\n",
    "plt.title('Balance Final del Jugador Despues de 100 lanzamientos')\n",
    "plt.xlabel('Balance Final')\n",
    "plt.ylabel('Frecuencia')\n",
    "plt.show()\n",
    "#Grafica Ganancia o Pérdida del Jugador Despues de 100 lanzamientos\n",
    "plt.hist(d,bins = 50)\n",
    "plt.title('Ganancia o Pérdida del Jugador Despues de 100 lanzamientos')\n",
    "plt.xlabel('Balance Final')\n",
    "plt.ylabel('Frecuencia')\n",
    "plt.show()"
   ]
  },
  {
   "cell_type": "markdown",
   "metadata": {},
   "source": [
    "> 4. Imagina que comienzas con 30 dólares ¿Cúal es el valor esperado del número de tiradas que debes realizar antes de quedarte sin dinero? ¿Cúal es la probabilidad de realizar más de 150 tiradas? (grafica el histograma correspondiente)."
   ]
  },
  {
   "cell_type": "code",
   "execution_count": 121,
   "metadata": {},
   "outputs": [
    {
     "name": "stdout",
     "output_type": "stream",
     "text": [
      "El valor esperado del número de tiradas que debes realizar antes de quedarte sin dinero es:  326.913\n",
      "La probabilidad de realizar más de 150 tiradas es:  0.681\n"
     ]
    },
    {
     "data": {
      "image/png": "[encoded data removed]",
      "text/plain": [
       "<Figure size 432x288 with 1 Axes>"
      ]
     },
     "metadata": {},
     "output_type": "display_data"
    }
   ],
   "source": [
    "sim = 1000 #cantidad de simulaciones\n",
    "min_bal = 0 #dinero Minimo que se quiere\n",
    "bal_ini = 30 # Capital Inicial\n",
    "a = [] #vector para guardar los lanzaminetos hasta llega a 0 dolaress\n",
    "tir = 0 #se inicia con ciertos tiros (se repite por facilidad en el ciclo)\n",
    "for j in range(sim+1): #simulara el juego \"sim\" veces\n",
    "    a.append(tir) #Aqui se guarda los tiros hasta llegar a 0 dolares\n",
    "    bal = 30 #capital inicial\n",
    "    tir = 0 #tiros iniciales\n",
    "    while bal > min_bal: #ciclo que termia el juego llegando a 0 dolares\n",
    "        tiros,bal = Jugada(1, 3, bal) #la jugada\n",
    "        tir+=tiros #almacena el número de tiros\n",
    "        bal += 8 #Recompenza al final de la jugada\n",
    "b = a[1:] #elimina el primer numero de tiros que no es un resultado real de juego\n",
    "tir_prom = np.mean(b)#promedio de tiros antes de llegar a 0 dolares\n",
    "m_150 = len(list(filter(lambda x: x>150,b)))/len(b) #Probabilidad mas de 150 tiradas antes de llegar a 0 dolares\n",
    "\n",
    "print('El valor esperado del número de tiradas que debes realizar antes de quedarte sin dinero es: ',tir_prom)\n",
    "print('La probabilidad de realizar más de 150 tiradas es: ',m_150)\n",
    "\n",
    "#Grafica Cantidad de Tiros Antes de Lleagar a 0 Dolares\n",
    "plt.hist(b,bins = 50)\n",
    "plt.title('Cantidad de Tiros Antes de Lleagar a 0 Dolares')\n",
    "plt.xlabel('Cantidad de Tiros')\n",
    "plt.ylabel('Frecuencia')\n",
    "plt.show()"
   ]
  },
  {
   "cell_type": "markdown",
   "metadata": {},
   "source": [
    "## Problema 2"
   ]
  },
  {
   "cell_type": "markdown",
   "metadata": {},
   "source": [
    "2. Jessica Williams, gerente de Kitchen Appliances para Midtown Department Store, siente que sus niveles de inventario de estufas han estado funcionando más de lo necesario. Antes de revisar la política de inventario de estufas, registra el número vendido cada día durante un periodo de 25 días, como se resume a continuación."
   ]
  },
  {
   "cell_type": "code",
   "execution_count": 54,
   "metadata": {},
   "outputs": [
    {
     "data": {
      "text/html": [
       "<div>\n",
       "<style scoped>\n",
       "    .dataframe tbody tr th:only-of-type {\n",
       "        vertical-align: middle;\n",
       "    }\n",
       "\n",
       "    .dataframe tbody tr th {\n",
       "        vertical-align: top;\n",
       "    }\n",
       "\n",
       "    .dataframe thead th {\n",
       "        text-align: right;\n",
       "    }\n",
       "</style>\n",
       "<table border=\"1\" class=\"dataframe\">\n",
       "  <thead>\n",
       "    <tr style=\"text-align: right;\">\n",
       "      <th></th>\n",
       "      <th>0</th>\n",
       "      <th>1</th>\n",
       "      <th>2</th>\n",
       "      <th>3</th>\n",
       "      <th>4</th>\n",
       "    </tr>\n",
       "  </thead>\n",
       "  <tbody>\n",
       "    <tr>\n",
       "      <th>Maquinas Vendidas</th>\n",
       "      <td>2</td>\n",
       "      <td>3</td>\n",
       "      <td>4</td>\n",
       "      <td>5</td>\n",
       "      <td>6</td>\n",
       "    </tr>\n",
       "    <tr>\n",
       "      <th>Número de Días</th>\n",
       "      <td>4</td>\n",
       "      <td>7</td>\n",
       "      <td>8</td>\n",
       "      <td>5</td>\n",
       "      <td>1</td>\n",
       "    </tr>\n",
       "  </tbody>\n",
       "</table>\n",
       "</div>"
      ],
      "text/plain": [
       "                   0  1  2  3  4\n",
       "Maquinas Vendidas  2  3  4  5  6\n",
       "Número de Días     4  7  8  5  1"
      ]
     },
     "execution_count": 54,
     "metadata": {},
     "output_type": "execute_result"
    }
   ],
   "source": [
    "d = {'Maquinas Vendidas': [2,3,4,5,6], 'Número de Días': [4,7,8,5,1]}\n",
    ">>> df = pd.DataFrame(data=d).T\n",
    ">>> df"
   ]
  },
  {
   "cell_type": "markdown",
   "metadata": {},
   "source": [
    "Graficar el histograma y calcular el promedio de ventas usando python y la fórmula teórica de valor esperado."
   ]
  },
  {
   "cell_type": "code",
   "execution_count": 65,
   "metadata": {},
   "outputs": [
    {
     "data": {
      "image/png": "[encoded data removed]",
      "text/plain": [
       "<Figure size 432x288 with 1 Axes>"
      ]
     },
     "metadata": {},
     "output_type": "display_data"
    },
    {
     "name": "stdout",
     "output_type": "stream",
     "text": [
      "El promedio de ventas de estufas usando la fórmula teórica de valor esperado es:\n",
      "3.6800000000000006\n"
     ]
    }
   ],
   "source": [
    "dias = [4,7,8,5,1]\n",
    "maqven =[2,3,4,5,6]\n",
    "prob= list(dias/np.sum(dias))\n",
    "mult = list(map(lambda x,y: x*y,prob,maqven ))\n",
    "prom = np.sum(mult)\n",
    "plt.hist(maqven,bins = 6, range=[1,7], weights=dias)\n",
    "plt.xlabel('Número de Días')\n",
    "plt.ylabel('Frecuencia')\n",
    "plt.title('Máquinas Vendidas')\n",
    "plt.show()\n",
    "print('El promedio de ventas de estufas usando la fórmula teórica de valor esperado es:')\n",
    "print(prom)\n"
   ]
  },
  {
   "cell_type": "markdown",
   "metadata": {},
   "source": [
    "## Problema 3"
   ]
  },
  {
   "cell_type": "markdown",
   "metadata": {},
   "source": [
    "3. Rustbelt Manufacturing Company emplea un equipo de mantenimiento para reparar sus máquinas según sea necesario. La gerencia ahora quiere un estudio de simulación para analizar cúal debe ser el tamaño de la tripulación, donde los tamaños de la cuadrilla considerados son 2, 3 y 4. El tiempo requerido por la cuadrilla para reparar una máquina tiene una distribución uniforme durante el intervalo de 0 a dos veces la media, donde la media depende del tamaño de la cuadrilla. La media es de 4 horas con dos miembros de la cuadrilla, 3 horas con tres miembros de la cuadrilla y 2 horas con cuatro miembros de la cuadrilla. El tiempo entre las interrupciones de alguna máquina tiene una distribución uniforme de entre 3.5 y 9 horas. Cuando una máquina se descompone y por lo tanto requiere reparación, la gerencia desea realizar los siguientes análisis:\n",
    "\n",
    "> Nota: Se quiere analizar el tiempo de espera de una máquina descompuesta, por lo tanto se tienen que analizar los tiempos de reparación y los tiempos de descomposición y ver si cuando se daña una nueva máquina todavía están reparando una máquina anterior o ya la repararon."
   ]
  },
  {
   "cell_type": "code",
   "execution_count": 67,
   "metadata": {},
   "outputs": [],
   "source": [
    "cuad = [2,3,4] #tamaño de cuadrillas\n",
    "media = [4,3,2] #media de cuadrillas\n",
    "\n",
    "### Método Congruencial\n",
    "def met_cong(x0:\"Semilla inicial\",a:\"Multiplicador\",b:\"Incremento\", m:\"Módulo\", n:\"Número de elementos\"):\n",
    "    '''Esta función contiene la programación del método congruencial para la sucesión x_n = (ax_{n−1} + b) mod m'''\n",
    "    N = np.arange(n)\n",
    "    return ((a**N * x0 + b * ((a**N-1)/(a-1))) % m)/m\n",
    "###Distribución Uniforme Aleatoria Entre 2 Valores\n",
    "def rand_uni_bet(n:\"Cantidad de números aleatorios deseados\",a:\"límite inferior\",b:\"límite inferior\"):\n",
    "    '''Esta función genera \"n\" números aleatorios distribuidos de forma uniforme entre 2 números dados'''\n",
    "    x = met_cong(round(time.time()*10**7), 1103515245, 12345, 2**31-1, n+1)[1:]\n",
    "    xab = (b-a)*x+a #Desplazamiento de números aleatorios\n",
    "    return xab"
   ]
  },
  {
   "cell_type": "code",
   "execution_count": 92,
   "metadata": {},
   "outputs": [],
   "source": [
    "sim = 100000 #simulaciones\n",
    "### Distribuciones\n",
    "#Distribución de tiempo requerido por la cuadrilla 1 para reparar una máquina\n",
    "cuad1 = rand_uni_bet(sim,0,2*media[0])#Generación de (n) números aleatorios entre 0 y 2 veces la media de la cuadrilla 1\n",
    "#Distribución de tiempo requerido por la cuadrilla 2 para reparar una máquina\n",
    "cuad2 = rand_uni_bet(sim,0,2*media[1])#Generación de (n) números aleatorios entre 0 y 2 veces la media de la cuadrilla 2\n",
    "#Distribución de tiempo requerido por la cuadrilla 3 para reparar una máquina\n",
    "cuad3 = rand_uni_bet(sim,0,2*media[2])#Generación de (n) números aleatorios entre 0 y 2 veces la media de la cuadrilla 3\n",
    "#Distribución de las interrupciones de alguna máquina\n",
    "distr_interrupt = rand_uni_bet(100000,3.5,9)#Generación de (n) números aleatorios entre 3.5 y 9"
   ]
  },
  {
   "cell_type": "markdown",
   "metadata": {},
   "source": [
    "> 1. Comienza con una cuadrilla de tamaño 2, ¿Cúal es el tiempo medio de espera para reparar la máquina?, ¿Cúal es la probabilidad de que una máquina tenga que esperar más de 8 horas para ser reparada? (dibuja el histograma correspondiente)."
   ]
  },
  {
   "cell_type": "code",
   "execution_count": 100,
   "metadata": {},
   "outputs": [
    {
     "name": "stdout",
     "output_type": "stream",
     "text": [
      "La probabilidad de que una máquina tenga que esperar más de 8 horas para ser reparada por una cuadrilla de 2 personas es:  0.00205\n"
     ]
    },
    {
     "data": {
      "image/png": "[encoded data removed]",
      "text/plain": [
       "<Figure size 432x288 with 1 Axes>"
      ]
     },
     "metadata": {},
     "output_type": "display_data"
    }
   ],
   "source": [
    "t_esp = [cuad1[0]] #vector para ingresar tiempo de espera\n",
    "tempcuad = cuad1[0] #se inicializa con el tiempo de reparar la primera maquina\n",
    "for j in range(sim-1): #ciclo con simulaciones\n",
    "    tempcuad += cuad1[j+1] - distr_interrupt[j] #se suman los tiempos de espera\n",
    "    if tempcuad <= 0: # si el tiempo de espera es negativo, se vuelve 0\n",
    "        tempcuad = 0\n",
    "        t_esp.append(tempcuad) #se agrega al vector de tiempo de espera\n",
    "    else:\n",
    "        t_esp.append(tempcuad)#se agrega al vector de tiempo de espera\n",
    "t_esp_prom = np.mean(t_esp)#promedio de tiempo de espera\n",
    "t_esp_sup8 = len(list(filter(lambda x: x>8,t_esp)))/len(t_esp)#tiempo de espera superior a 8\n",
    "print('La probabilidad de que una máquina tenga que esperar más de 8 horas para ser reparada por una cuadrilla de 2 personas es: ',t_esp_sup8)\n",
    "plt.hist(t_esp)\n",
    "plt.xlabel('Tiempo de Espera en Horas')\n",
    "plt.ylabel('Frecuencia')\n",
    "plt.title('Tiempo de Espera de Reparación de Máquinas por una cuadrilla de 2 Personas')\n",
    "plt.show()"
   ]
  },
  {
   "cell_type": "markdown",
   "metadata": {},
   "source": [
    "> 2. Repita el inciso 1 pero para una cuadrilla de tamaño 3, ¿Cúal es el tiempo medio de espera para reparar la máquina?, ¿Cúal es la probabilidad de que una máquina tenga que esperar más de 3 horas para ser reparada? (dibuja el histograma correspondiente)."
   ]
  },
  {
   "cell_type": "code",
   "execution_count": 95,
   "metadata": {},
   "outputs": [
    {
     "name": "stdout",
     "output_type": "stream",
     "text": [
      "La probabilidad de que una máquina tenga que esperar más de 3 horas para ser reparada por una cuadrilla de 3 personas es:  0.00082\n"
     ]
    },
    {
     "data": {
      "image/png": "[encoded data removed]",
      "text/plain": [
       "<Figure size 432x288 with 1 Axes>"
      ]
     },
     "metadata": {},
     "output_type": "display_data"
    }
   ],
   "source": [
    "t_esp = [cuad2[0]]\n",
    "tempcuad = cuad2[0]\n",
    "for j in range(sim-1):\n",
    "    tempcuad += cuad2[j+1] - distr_interrupt[j]\n",
    "    if tempcuad <= 0:\n",
    "        tempcuad = 0\n",
    "        t_esp.append(tempcuad)\n",
    "    else:\n",
    "        t_esp.append(tempcuad)\n",
    "t_esp_prom = np.mean(t_esp)\n",
    "t_esp_sup3 = len(list(filter(lambda x: x>3,t_esp)))/len(t_esp)\n",
    "print('La probabilidad de que una máquina tenga que esperar más de 3 horas para ser reparada por una cuadrilla de 3 personas es: ',t_esp_sup3)\n",
    "plt.hist(t_esp)\n",
    "plt.xlabel('Tiempo de Espera en Horas')\n",
    "plt.ylabel('Frecuencia')\n",
    "plt.title('Tiempo de Espera de Reparación de Máquinas por una cuadrilla de 3 Personas')\n",
    "plt.show()"
   ]
  },
  {
   "cell_type": "markdown",
   "metadata": {},
   "source": [
    "> 3. Repita el inciso 2 para una cuadrilla de tamaño 4, Cúal es el tiempo medio de espera para reparar la máquina?, ¿Cúal es la probabilidad de que una máquina tenga que esperar más de 3 horas para ser reparada? (dibuja el histograma correspondiente)."
   ]
  },
  {
   "cell_type": "code",
   "execution_count": null,
   "metadata": {},
   "outputs": [],
   "source": [
    "t_esp = [cuad3[0]]\n",
    "tempcuad = cuad3[0]\n",
    "for j in range(sim-1):\n",
    "    tempcuad += cuad3[j+1] - distr_interrupt[j]\n",
    "    if tempcuad <= 0:\n",
    "        tempcuad = 0\n",
    "        t_esp.append(tempcuad)\n",
    "    else:\n",
    "        t_esp.append(tempcuad)\n",
    "t_esp_prom = np.mean(t_esp)\n",
    "t_esp_sup3 = len(list(filter(lambda x: x>3,t_esp)))/len(t_esp)\n",
    "print('La probabilidad de que una máquina tenga que esperar más de 3 horas para ser reparada por una cuadrilla de 4 personas es: ',t_esp_sup3)\n",
    "plt.hist(t_esp)\n",
    "plt.xlabel('Tiempo de Espera en Horas')\n",
    "plt.ylabel('Frecuencia')\n",
    "plt.title('Tiempo de Espera de Reparación de Máquinas por una cuadrilla de 4 Personas')\n",
    "plt.show()"
   ]
  },
  {
   "cell_type": "markdown",
   "metadata": {},
   "source": [
    "## Problema 4"
   ]
  },
  {
   "cell_type": "markdown",
   "metadata": {},
   "source": [
    "4. El juego de dados requiere que el jugador arroje dos dados una o más veces hasta que se llegue a una decisión sobre si él (o ella) gana o pierde. Él gana si la primera tirada resulta en una suma de 7 u 11 o, alternativamente, si la primera suma es 4, 5, 6, 8, 9 o 10 y la misma suma reaparece antes de que aparezca una suma de 7. Por el contrario, pierde si la primera tirada resulta en una suma de 2, 3 o 12 o, alternativamente, si la primera suma es 4, 5, 6, 8, 9 o 10 y aparece una suma de 7 antes de la primera suma reaparece."
   ]
  },
  {
   "cell_type": "code",
   "execution_count": 104,
   "metadata": {},
   "outputs": [],
   "source": [
    "def dados():\n",
    "    '''Esta funcion es la encargada de realizar el lanzamiento de los dados y regresar la suma'''\n",
    "    dado1=random.randint(1,6)\n",
    "    dado2=random.randint(1,6)\n",
    "    return dado1+dado2\n",
    "\n",
    "def game(status:\"Estatus del lanzamiento\"):\n",
    "    '''Esta funcion es la encargada de regresar el resultado de un juego completo'''\n",
    "    won=False\n",
    "    status2=0\n",
    "    if status==7 or status==11:\n",
    "        won=True\n",
    "    else:\n",
    "        if status>=4 and status<=10:\n",
    "            status2=dados()\n",
    "            if status2==7:\n",
    "                won=False\n",
    "            else:\n",
    "                while status2!=7 and won!=True:\n",
    "                    if status==status2:\n",
    "                        won=True\n",
    "                    else:\n",
    "                        status2=dados()\n",
    "    return won,status,status2\n",
    "\n",
    "def bet(cash:\"Cantidad de dinero inicial\",Bet:\"Cantidad de dinero a apostar\",ngames:\"Numero de veces que se jugara\"):\n",
    "    '''Esta funcion es la encargada de realizar la apuesta completa para un jugador con su\n",
    "    capital y la cantidad que apostara'''\n",
    "    cash=[cash]\n",
    "    x=list(map(lambda n:cash.append(Bet) if(game(dados())[0]) else cash.append(-Bet),range(ngames)))\n",
    "    return sum(cash)"
   ]
  },
  {
   "cell_type": "markdown",
   "metadata": {},
   "source": [
    "> 1. Calcule la probabilidad de ganar corriendo 10,000 simulaciones."
   ]
  },
  {
   "cell_type": "code",
   "execution_count": 105,
   "metadata": {},
   "outputs": [
    {
     "name": "stdout",
     "output_type": "stream",
     "text": [
      "Jugando 10000 veces la probabilidad de ganar es de: 0.4846\n"
     ]
    }
   ],
   "source": [
    "N = 10000\n",
    "x=[1 for i in range(N) if game(dados())[0]]\n",
    "prob=sum(x)/10000\n",
    "print(\"Jugando 10000 veces la probabilidad de ganar es de:\",prob)"
   ]
  },
  {
   "cell_type": "markdown",
   "metadata": {},
   "source": [
    "> 2. Imagina que cada juego ganas o pierdes 50 dolares. Si inicias con 500 dolares. ¿Cúal es tu valor esperado de dinero después de 10 juegos? ¿y el más probable? ¿Cúal es la probabilidad de ganar dinero?."
   ]
  },
  {
   "cell_type": "code",
   "execution_count": 106,
   "metadata": {},
   "outputs": [
    {
     "data": {
      "image/png": "[encoded data removed]",
      "text/plain": [
       "<Figure size 432x288 with 1 Axes>"
      ]
     },
     "metadata": {},
     "output_type": "display_data"
    },
    {
     "name": "stdout",
     "output_type": "stream",
     "text": [
      "media:  475.0\n",
      "\n",
      "probabilidad de ganar dinero despues de jugar  10  juegos: 0.57\n"
     ]
    }
   ],
   "source": [
    "iterations=100\n",
    "money=500\n",
    "pot=50\n",
    "ng=10\n",
    "x=(list(map(lambda n:bet(money,pot,ng),np.arange(iterations))))\n",
    "plt.hist(x)\n",
    "plt.show()\n",
    "print(\"media: \",np.mean(x))\n",
    "result=list(filter(lambda x:x>=money,x))\n",
    "print(\"\\nprobabilidad de ganar dinero despues de jugar \",ng,\" juegos:\",np.size(result)/iterations)"
   ]
  },
  {
   "cell_type": "code",
   "execution_count": 107,
   "metadata": {},
   "outputs": [
    {
     "name": "stdout",
     "output_type": "stream",
     "text": [
      "En promedio mi dinero fue: 241.33333333333334\n"
     ]
    },
    {
     "data": {
      "image/png": "[encoded data removed]",
      "text/plain": [
       "<Figure size 432x288 with 1 Axes>"
      ]
     },
     "metadata": {},
     "output_type": "display_data"
    },
    {
     "data": {
      "image/png": "[encoded data removed]",
      "text/plain": [
       "<Figure size 432x288 with 1 Axes>"
      ]
     },
     "metadata": {},
     "output_type": "display_data"
    },
    {
     "data": {
      "image/png": "[encoded data removed]",
      "text/plain": [
       "<Figure size 432x288 with 1 Axes>"
      ]
     },
     "metadata": {},
     "output_type": "display_data"
    }
   ],
   "source": [
    "plays=[10,100,1000]\n",
    "x=list(map(lambda y:(list(map(lambda n:bet(money,pot,y),np.arange(iterations)))),plays))\n",
    "i=1\n",
    "final=[]\n",
    "plays=[10,100,1000]\n",
    "money=500\n",
    "pot=50\n",
    "for j in plays:\n",
    "    x=(list(map(lambda n:bet(money,pot,j),np.arange(iterations))))\n",
    "    final.append(x)\n",
    "    plt.figure(i)\n",
    "    plt.hist(x,label= 'se apuestan %i veces' %j)\n",
    "    plt.legend()\n",
    "    i += 1\n",
    "print('En promedio mi dinero fue:',np.mean(final))\n",
    "plt.show()"
   ]
  },
  {
   "cell_type": "markdown",
   "metadata": {},
   "source": [
    "## Problema 5"
   ]
  },
  {
   "cell_type": "markdown",
   "metadata": {},
   "source": [
    "5. Una inversión en cetes actualmente promete un rendimiento que va entre el 8 % y el 12 % anual."
   ]
  },
  {
   "cell_type": "code",
   "execution_count": 123,
   "metadata": {},
   "outputs": [],
   "source": [
    "def rate():\n",
    "    '''Funcion encargada de generar tasas de interes aleatorias en el rango para el ejercicio'''\n",
    "    return random.uniform(.08, .121)\n",
    "def investment(money:\"Cantidad a invertir\",interest:\"Tasa de interes\",time:\"Tiempo de la inversion en años\"):\n",
    "    '''Funcion encargada de realizar el calculo del valor futuro con un interes compuesto'''\n",
    "    return money*(1+interest)**time"
   ]
  },
  {
   "cell_type": "markdown",
   "metadata": {},
   "source": [
    "> 1. Considera la cantidad total de dinero que obtendrás al final del año dado una inversión inicial de 300000 dolares. Realiza un programa que simule 10,000 escenarios diferentes que puedan suceder, calcula su media, su desviación estándar y grafica su histograma."
   ]
  },
  {
   "cell_type": "code",
   "execution_count": 124,
   "metadata": {},
   "outputs": [
    {
     "data": {
      "image/png": "[encoded data removed]",
      "text/plain": [
       "<Figure size 432x288 with 1 Axes>"
      ]
     },
     "metadata": {},
     "output_type": "display_data"
    },
    {
     "name": "stdout",
     "output_type": "stream",
     "text": [
      "Media de los escenarios:  330168.74620548566\n",
      "\n",
      "Desviacion estandar de los escenarios 3543.765973717585\n"
     ]
    }
   ],
   "source": [
    "money=300000\n",
    "investments=list(map(lambda n:investment(money,n,1),list(map(lambda y:rate(),range(10000)))))\n",
    "plt.hist(investments)\n",
    "plt.show()\n",
    "print(\"Media de los escenarios: \",np.mean(investments))\n",
    "print(\"\\nDesviacion estandar de los escenarios\",np.std(investments))"
   ]
  },
  {
   "cell_type": "markdown",
   "metadata": {},
   "source": [
    "> 2. Ahora supón que dejas el dinero durante 6 años, Realiza un programa que simule 10,000 escenarios diferentes que puedan suceder, calcula su media, su desviación estándar y grafica su histograma. ¿Cúal es la probabilidad de ganar m ́as de 58000 dolares? ¿Cúal es la probabilidad de ganar menos de 55000 dolares?."
   ]
  },
  {
   "cell_type": "code",
   "execution_count": 111,
   "metadata": {},
   "outputs": [
    {
     "data": {
      "image/png": "[encoded data removed]",
      "text/plain": [
       "<Figure size 432x288 with 1 Axes>"
      ]
     },
     "metadata": {},
     "output_type": "display_data"
    },
    {
     "name": "stdout",
     "output_type": "stream",
     "text": [
      "Media de los escenarios:  534084.0620377332\n",
      "\n",
      "Desviacion estandar de los escenarios 34495.26704296807\n",
      "Probabilidad de ganar mas de 580,000:  0.1221 \n",
      "Probabilidad de ganar menos de 550,000:  0.6374\n"
     ]
    }
   ],
   "source": [
    "investments=list(map(lambda n:investment(money,n,6),list(map(lambda y:rate(),range(10000)))))\n",
    "plt.hist(investments)\n",
    "plt.show()\n",
    "print(\"Media de los escenarios: \",np.mean(investments))\n",
    "print(\"\\nDesviacion estandar de los escenarios\",np.std(investments))\n",
    "lower=np.size(list(filter(lambda investments:investments<=550000,investments)))/10000\n",
    "higher=np.size(list(filter(lambda investments:investments>=580000,investments)))/10000\n",
    "print(\"Probabilidad de ganar mas de 580,000: \",higher,\"\\nProbabilidad de ganar menos de 550,000: \",lower)"
   ]
  },
  {
   "cell_type": "markdown",
   "metadata": {},
   "source": [
    "> 3. Repite el inciso b), pero suponiendo que el rendimiento es discreto, es decir, solo puede tomar los valores enteros 8,9,10,11,12. ¿Cúal es la probabilidad de ganar entre 53000 dolares y 56000 dolares?"
   ]
  },
  {
   "cell_type": "code",
   "execution_count": 112,
   "metadata": {},
   "outputs": [
    {
     "data": {
      "image/png": "[encoded data removed]",
      "text/plain": [
       "<Figure size 432x288 with 1 Axes>"
      ]
     },
     "metadata": {},
     "output_type": "display_data"
    },
    {
     "name": "stdout",
     "output_type": "stream",
     "text": [
      "Media de los escenarios:  532787.4454692442\n",
      "\n",
      "Desviacion estandar de los escenarios 40881.66104059055\n",
      "Probabilidad de ganar mas de 530,000 y menos de 560,000:  0.2047\n"
     ]
    }
   ],
   "source": [
    "def rate_dis():\n",
    "    '''Funcion encargada de generar numeros aleatorios discretos'''\n",
    "    return np.random.randint(8,13)/100\n",
    "\n",
    "investments=list(map(lambda n:investment(money,n,6),list(map(lambda y:rate_dis(),range(10000)))))\n",
    "plt.hist(investments)\n",
    "plt.show()\n",
    "print(\"Media de los escenarios: \",np.mean(investments))\n",
    "print(\"\\nDesviacion estandar de los escenarios\",np.std(investments))\n",
    "prob=np.size(list(filter(lambda investments:investments<=560000 and investments>=530000 ,investments)))/10000\n",
    "print(\"Probabilidad de ganar mas de 530,000 y menos de 560,000: \",prob)"
   ]
  }
 ],
 "metadata": {
  "kernelspec": {
   "display_name": "Python 3",
   "language": "python",
   "name": "python3"
  },
  "language_info": {
   "codemirror_mode": {
    "name": "ipython",
    "version": 3
   },
   "file_extension": ".py",
   "mimetype": "text/x-python",
   "name": "python",
   "nbconvert_exporter": "python",
   "pygments_lexer": "ipython3",
   "version": "3.6.5"
  }
 },
 "nbformat": 4,
 "nbformat_minor": 2
}
