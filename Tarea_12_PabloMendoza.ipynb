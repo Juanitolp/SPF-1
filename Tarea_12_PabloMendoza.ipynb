{
 "cells": [
  {
   "cell_type": "markdown",
   "metadata": {},
   "source": [
    "## Ejercicios con Python Tarea Clase 11\n",
    "### Pablo Ángel Mendoza Aguirre"
   ]
  },
  {
   "cell_type": "code",
   "execution_count": 1,
   "metadata": {},
   "outputs": [],
   "source": [
    "import numpy as np\n",
    "import pandas as pd\n",
    "import scipy.stats as st \n",
    "from scipy.stats import beta\n",
    "from scipy.special import comb\n",
    "import matplotlib.pyplot as plt\n",
    "from math import factorial as fac\n",
    "%matplotlib inline"
   ]
  },
  {
   "cell_type": "markdown",
   "metadata": {},
   "source": [
    "1.Suponer que $T$ distribuye beta donde la media es $\\mu_p$ y varianza $\\sigma_p^2$ y responder cual es la probabilidad $P(T\\leq d)$.\n",
    "\n",
    "\n"
   ]
  },
  {
   "cell_type": "code",
   "execution_count": 2,
   "metadata": {},
   "outputs": [
    {
     "name": "stdout",
     "output_type": "stream",
     "text": [
      "P(T<=d)= 0.7013120540589285\n"
     ]
    },
    {
     "name": "stderr",
     "output_type": "stream",
     "text": [
      "/anaconda3/lib/python3.6/site-packages/matplotlib/axes/_axes.py:6462: UserWarning: The 'normed' kwarg is deprecated, and has been replaced by the 'density' kwarg.\n",
      "  warnings.warn(\"The 'normed' kwarg is deprecated, and has been \"\n"
     ]
    },
    {
     "data": {
      "image/png": "[encoded data removed]",
      "text/plain": [
       "<Figure size 432x288 with 1 Axes>"
      ]
     },
     "metadata": {},
     "output_type": "display_data"
    }
   ],
   "source": [
    "alpha=6\n",
    "loc=44-alpha\n",
    "beta=1\n",
    "#beta es un caso especial de gamma, y beta va de [0,1] por lo que se puede reescribir como lo siguiente\n",
    "P = st.gamma.cdf(47,loc,alpha,beta)\n",
    "print('P(T<=d)=',P)\n",
    "\n",
    "data=st.gamma.rvs(alpha, loc=loc, scale=beta, size=5000)\n",
    "a = plt.hist(data, 50, normed=True)"
   ]
  },
  {
   "cell_type": "markdown",
   "metadata": {},
   "source": [
    "2.Suponer que $T$ distribuye triangular donde el valor mas probable es $\\mu_p$ el valor pesimista es $p=49$ y el valor optimista es $o=40$ y responder cual es la probabilidad $P(T\\leq d)$.\n",
    "\n"
   ]
  },
  {
   "cell_type": "code",
   "execution_count": 3,
   "metadata": {},
   "outputs": [
    {
     "data": {
      "image/png": "[encoded data removed]",
      "text/plain": [
       "<Figure size 432x288 with 1 Axes>"
      ]
     },
     "metadata": {},
     "output_type": "display_data"
    },
    {
     "name": "stdout",
     "output_type": "stream",
     "text": [
      "P(T<=d)= 0.9111111111111111\n"
     ]
    }
   ],
   "source": [
    "x = np.arange(39,50,0.1)\n",
    "x2 = np.random.uniform(39,50,500)\n",
    "a,b,c=40,44,49\n",
    "plt.hist(st.triang.rvs(((b-a)/(c-a)),a,c-a, 1000),density=True,bins=20)\n",
    "plt.plot(x,st.triang.pdf(x,((b-a)/(c-a)),a,c-a))\n",
    "plt.show()\n",
    "P = st.triang.cdf(47,((b-a)/(c-a)),a,c-a)\n",
    "print('P(T<=d)=',P)"
   ]
  },
  {
   "cell_type": "markdown",
   "metadata": {},
   "source": [
    "3.Una vez respondido los dos numerales anteriores, suponer que cada actividad es dependiente y su dependencia es mostrada en la figura donde se nombran los procesos, además considere que la distribución de cada actividad distribuye beta. Partiendo de la dependencia de las actividades, generar 10000 escenarios diferentes para cada actividad y utilizar montecarlo para responder ¿Cuál es la probabilidad $P(T\\leq d)$. Comparar con el resultado obtenido 1 y comentar las diferencias (CONCLUIR)\n",
    "\n"
   ]
  },
  {
   "cell_type": "code",
   "execution_count": 4,
   "metadata": {},
   "outputs": [],
   "source": [
    "N=1000\n",
    "dataA = pd.DataFrame(st.gamma.rvs((1/3), loc= (2-(1/3)), scale=1, size=N))\n",
    "dataB = pd.DataFrame(st.gamma.rvs((1), loc= (4-(1)), scale=1, size=N))\n",
    "dataC = pd.DataFrame(st.gamma.rvs((2), loc= (10-(2)), scale=1, size=N))\n",
    "dataE = pd.DataFrame(st.gamma.rvs((2/3), loc= (4-(2/3)), scale=1, size=N))\n",
    "dataF = pd.DataFrame(st.gamma.rvs((1), loc= (5-(1)), scale=1, size=N))\n",
    "dataJ = pd.DataFrame(st.gamma.rvs((1), loc= (8-(1)), scale=1, size=N))\n",
    "dataL = pd.DataFrame(st.gamma.rvs((1), loc= (5-(1)), scale=1, size=N))\n",
    "dataN = pd.DataFrame(st.gamma.rvs((2/3), loc= (6-(2/3)), scale=1, size=N))\n",
    "df = pd.concat([dataA,dataB,dataC,dataE,dataF,dataJ,dataL,dataN], axis = 1)\n",
    "sumas = df.sum(axis=1) #total de horas N simulaciones"
   ]
  },
  {
   "cell_type": "code",
   "execution_count": 5,
   "metadata": {},
   "outputs": [
    {
     "data": {
      "image/png": "[encoded data removed]",
      "text/plain": [
       "<Figure size 432x288 with 1 Axes>"
      ]
     },
     "metadata": {},
     "output_type": "display_data"
    },
    {
     "name": "stdout",
     "output_type": "stream",
     "text": [
      "P(T<=d)= 0.6954518026005957\n"
     ]
    }
   ],
   "source": [
    "media = sumas.mean()\n",
    "desvest = sumas.std()\n",
    "\n",
    "a = plt.hist(sumas, bins = 50)\n",
    "plt.title('Histograma de simulaciones con Beta')\n",
    "plt.show()\n",
    "P = st.gamma.cdf(47,media-desvest,desvest,1)\n",
    "print('P(T<=d)=',P)"
   ]
  },
  {
   "cell_type": "markdown",
   "metadata": {},
   "source": [
    "Se concluye que se comporta de forma muy similar si son dependientes o independientes, el resultado se sezga un poco a la izquierda en este caso pero es mínimo. Esto es resultado del tipo de distribución."
   ]
  },
  {
   "cell_type": "markdown",
   "metadata": {},
   "source": [
    "4.Repetir el literal 3 pero en este caso usando una distribución triangular."
   ]
  },
  {
   "cell_type": "code",
   "execution_count": 8,
   "metadata": {},
   "outputs": [],
   "source": [
    "N=1000\n",
    "a,b,c = 1,2,3\n",
    "dataA = pd.DataFrame(st.triang.rvs(((b-a)/(c-a)),a,c-a, N))\n",
    "a,b,c = 2,3.5,8\n",
    "dataB = pd.DataFrame(st.triang.rvs(((b-a)/(c-a)),a,c-a, N))\n",
    "a,b,c = 6,9,18\n",
    "dataC = pd.DataFrame(st.triang.rvs(((b-a)/(c-a)),a,c-a, N))\n",
    "a,b,c = 1,4.5,5\n",
    "dataE = pd.DataFrame(st.triang.rvs(((b-a)/(c-a)),a,c-a, N))\n",
    "a,b,c = 4,4,10\n",
    "dataF = pd.DataFrame(st.triang.rvs(((b-a)/(c-a)),a,c-a, N))\n",
    "a,b,c = 3,9,9\n",
    "dataJ = pd.DataFrame(st.triang.rvs(((b-a)/(c-a)),a,c-a, N))\n",
    "a,b,c = 1,5.5,7\n",
    "dataL = pd.DataFrame(st.triang.rvs(((b-a)/(c-a)),a,c-a, N))\n",
    "a,b,c = 5,5.5,9\n",
    "dataN = pd.DataFrame(st.triang.rvs(((b-a)/(c-a)),a,c-a, N))\n",
    "\n",
    "df = pd.concat([dataA,dataB,dataC,dataE,dataF,dataJ,dataL,dataN], axis = 1)\n",
    "sumas = df.sum(axis=1) #total de horas N simulaciones"
   ]
  },
  {
   "cell_type": "code",
   "execution_count": 9,
   "metadata": {},
   "outputs": [
    {
     "name": "stdout",
     "output_type": "stream",
     "text": [
      "P(T<=d)= 0.5493333333333333\n"
     ]
    },
    {
     "data": {
      "image/png": "[encoded data removed]",
      "text/plain": [
       "<Figure size 432x288 with 1 Axes>"
      ]
     },
     "metadata": {},
     "output_type": "display_data"
    }
   ],
   "source": [
    "a = round(sumas.min())\n",
    "b = round(sumas.mean())\n",
    "c = round(sumas.max())\n",
    "P = st.triang.cdf(47,((b-a)/(c-a)),a,c-a)\n",
    "print('P(T<=d)=',P)\n",
    "a = plt.hist(sumas, bins = 50)\n",
    "plt.title('Histograma de simulaciones con Triangulo')\n",
    "plt.show()\n"
   ]
  },
  {
   "cell_type": "markdown",
   "metadata": {},
   "source": [
    "Las triangulares por su forma (sesgada a la derecha o a la izquieda) resultaron en un triango aproximadamente centrado, dando el resultado anterior, lo que parece más preciso que el que considera al fianl todo rtriangular, si cambia mucho el resultado."
   ]
  },
  {
   "cell_type": "code",
   "execution_count": null,
   "metadata": {},
   "outputs": [],
   "source": []
  }
 ],
 "metadata": {
  "kernelspec": {
   "display_name": "Python 3",
   "language": "python",
   "name": "python3"
  },
  "language_info": {
   "codemirror_mode": {
    "name": "ipython",
    "version": 3
   },
   "file_extension": ".py",
   "mimetype": "text/x-python",
   "name": "python",
   "nbconvert_exporter": "python",
   "pygments_lexer": "ipython3",
   "version": "3.6.5"
  }
 },
 "nbformat": 4,
 "nbformat_minor": 2
}
