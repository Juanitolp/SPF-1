{
 "cells": [
  {
   "cell_type": "markdown",
   "metadata": {},
   "source": [
    "___\n",
    "<img style=\"float: right; margin: 0px 0px 15px 15px;\" src=\"https://www.carrerasenlinea.mx/logos/original/logo-instituto-tecnologico-y-de-estudios-superiores-de-occidente.png\" width=\"150px\" height=\"100px\" />\n",
    "\n",
    "\n",
    "# SEGUNDO EXAMEN PARCIAL\n",
    "# SIMULACIÓN DE PROCESOS FINANCIEROS\n",
    "\n",
    "## Nombre: Pablo Ángel Mendoza Aguirre\n",
    "\n",
    "## Fecha: 19 de Octubre del 2018\n",
    "\n",
    "## Por: Oscar David Jaramillo Zuluaga."
   ]
  },
  {
   "cell_type": "markdown",
   "metadata": {},
   "source": [
    "# 1.\n",
    "La financiera ”El cerdito feliz” atiende la apertura de cuentas de ahorro en su sucursal matriz, en esta sucursal se tienen 4 ejecutivos para atención al inversionista, teniendo una media de tiempo para la atención de un cliente de 30 minutos, aunque con frecuencia se requiere que uno de los ejecutivos participe en juntas de evaluación de crédito, lo que provoca que el equipo de atención disminuya a 3 ejecutivos y en estas circunstancias el promedio de atención por cliente aumenta a 45 minutos. El tiempo entre la llegada de cada cliente en promedio es de 25 minutos, si la apertura de la sucursal es a las 9:00 a.m. y cierra su atención al público a las 14:00 horas, realiza una simulación de mímino 1000 escenarios y responda"
   ]
  },
  {
   "cell_type": "markdown",
   "metadata": {},
   "source": [
    "a).Justifique que tipo de distribuciones de probabilidad va a utilizar para realizar montecarlo.\n",
    "> La distribución de poisson permite conocer la probabilidad de occurencia de un evento aleatoio con resutado discreto, como los tiempos de llegada de los clientes.\n",
    "\n",
    ">Por otra parte el tiempo de atención es una variable que por lo general distribuye de forma exponencial.\n"
   ]
  },
  {
   "cell_type": "code",
   "execution_count": 1,
   "metadata": {},
   "outputs": [],
   "source": [
    "import time\n",
    "import random\n",
    "import math as mt\n",
    "import numpy as np\n",
    "import pandas as pd\n",
    "import scipy.stats as st\n",
    "import scipy.special as sps \n",
    "from itertools import cycle \n",
    "from functools import reduce\n",
    "from scipy.stats import expon\n",
    "from scipy.stats import norm\n",
    "from scipy.stats import poisson\n",
    "import matplotlib.pyplot as plt\n",
    "from sklearn.utils import shuffle\n",
    "%matplotlib inline"
   ]
  },
  {
   "cell_type": "code",
   "execution_count": 2,
   "metadata": {},
   "outputs": [],
   "source": [
    "# De 9:00-14:00 hay 300 minutos entonces solo se puede atender a un número limitado de personas\n",
    "# La empresa atiende clientes solo 5 horas y llegan en promedio cada 25 minutos.\n",
    "def dia_laboral(media_ejecutivos:\"tiempo medio de atención de los ejecutivos\",):\n",
    "    '''Esta función simula \"n\" dias laborales'''\n",
    "    sim = 25\n",
    "    llegada = poisson.rvs(25, size=sim) #tiempos de llegada\n",
    "    atencion = expon.rvs(media_ejecutivos,size = sim) #tiempos de atención\n",
    "    i,tot1,tot2,j = 0,0,0,0\n",
    "    while tot1<= 300:\n",
    "        tot1+=atencion[i]\n",
    "        i+=1\n",
    "    atend = i\n",
    "    while tot2<= 300:\n",
    "        tot2+=llegada[j]\n",
    "        j+=1\n",
    "    no_atend = (j)-i\n",
    "    return atend, no_atend"
   ]
  },
  {
   "cell_type": "markdown",
   "metadata": {},
   "source": [
    "b). ¿Cuántas personas se atenderán hasta las 14:00 horas, si el equipo está formado solo por 3 ejecutivos?, ¿cuántos quedarán en cola?\n",
    "   \n",
    "c). ¿Cuántas personas se atenderán hasta las 14:00 horas, si el equipo está formado solo por 4 ejecutivos?, ¿Cuántos quedarán en cola?"
   ]
  },
  {
   "cell_type": "code",
   "execution_count": 3,
   "metadata": {},
   "outputs": [
    {
     "name": "stdout",
     "output_type": "stream",
     "text": [
      "Las cantidad de personas atendidas en promedio fue de:  7.0\n",
      "Las cantidad de personas no atendidas en promedio fue de:  5.532\n"
     ]
    }
   ],
   "source": [
    "#inciso b)\n",
    "x=(list(map(lambda n: dia_laboral(45),np.arange(1000))))\n",
    "tot1 = list(map(lambda x: (x[0]), x))\n",
    "tot2 = list(map(lambda x: (x[1]), x))\n",
    "print('Las cantidad de personas atendidas en promedio fue de: ', np.mean(tot1))\n",
    "print('Las cantidad de personas no atendidas en promedio fue de: ', np.mean(tot2))"
   ]
  },
  {
   "cell_type": "code",
   "execution_count": 4,
   "metadata": {},
   "outputs": [
    {
     "name": "stdout",
     "output_type": "stream",
     "text": [
      "Las cantidad de personas atendidas en promedio fue de:  10.0\n",
      "Las cantidad de personas no atendidas en promedio fue de:  2.538\n"
     ]
    }
   ],
   "source": [
    "#inciso c)\n",
    "x=(list(map(lambda n: dia_laboral(30),np.arange(1000))))\n",
    "tot1 = list(map(lambda x: (x[0]), x))\n",
    "tot2 = list(map(lambda x: (x[1]), x))\n",
    "print('Las cantidad de personas atendidas en promedio fue de: ', np.mean(tot1))\n",
    "print('Las cantidad de personas no atendidas en promedio fue de: ', np.mean(tot2))"
   ]
  },
  {
   "cell_type": "markdown",
   "metadata": {},
   "source": [
    "# 2 \n",
    "a). Demuestre que la distribución de poisson satisface la siguiente forma recursiva de su probabilidad\n",
    "$$ p(k+1)={\\lambda \\over k+1}p(k)$$"
   ]
  },
  {
   "cell_type": "markdown",
   "metadata": {},
   "source": [
    "La distribución de Poisson, se modela mediante la siguente función:\n",
    "$$P(k,\\lambda)=\\frac{e^{-\\lambda}(\\lambda)^k}{k!}$$\n",
    "Analizando esta función se pueden deducir 2 cosas, primero que \n",
    "\n",
    "$$p_k=\\frac{e^{-\\lambda}(\\lambda)^k}{k!}\\hspace{1cm} (1)$$\n",
    "\n",
    "y también que \n",
    "\n",
    "$$p_{k+1}=\\frac{e^{-\\lambda}(\\lambda)^{k+1}}{(k+1)!} \\hspace{1cm} (2)$$\n",
    "\n",
    "sustituyendo las $i$ de la ecuación (1) por $(i+1)$. Para que la ecuación (2) quede de forma recursiva, es decir, en términos de $p_k$, se hace lo siguiente, se toma la ecuación (2) y se separan los factoriales de la siguiente forma $(k+1)(k!) = (k+1)!$ y a su vez se separan los exponentes, dando como resultado:\n",
    "\n",
    "$$p_{k+1} = \\frac{e^{-\\lambda}(\\lambda)^{k}}{k!} \\frac{\\lambda}{k+1} $$\n",
    "\n",
    "Lo anterior se puede simplificar sustituyendo la ecuación (1), de forma ya es recursiva.\n",
    "\n",
    "$$ p_{k+1} = \\frac{\\lambda}{k+1} p_{k} $$"
   ]
  },
  {
   "cell_type": "markdown",
   "metadata": {},
   "source": [
    "b). De el resultado demostrado en el inciso a) (usando la ecuación recursiva), gráfique la función de distribución de probabilidad y su función acumulada, para $\\lambda = [4,10,30]$, valide sus resultados comparando con el paquete estadístico `scipy.stats`. Posteriormente, genere muestras aletorias que distribuyan poisson con el conjunto de parámetros lambda dados y realice el histograma correspondiente (en gráficas distintas para cada lambda), validando lo obtenido al graficar la función de densidad de probabilidad. **Nota**: Recuerde que la distribución de poisson es una distribución de probabilidad discreta así que el histograma debe ser discreto y no continuo."
   ]
  },
  {
   "cell_type": "code",
   "execution_count": 5,
   "metadata": {},
   "outputs": [
    {
     "name": "stderr",
     "output_type": "stream",
     "text": [
      "/anaconda3/lib/python3.6/site-packages/matplotlib/cbook/deprecation.py:107: MatplotlibDeprecationWarning: Adding an axes using the same arguments as a previous axes currently reuses the earlier instance.  In a future version, a new instance will always be created and returned.  Meanwhile, this warning can be suppressed, and the future behavior ensured, by passing a unique label to each axes instance.\n",
      "  warnings.warn(message, mplDeprecation, stacklevel=1)\n"
     ]
    },
    {
     "data": {
      "image/png": "[encoded data removed]",
      "text/plain": [
       "<Figure size 432x288 with 2 Axes>"
      ]
     },
     "metadata": {},
     "output_type": "display_data"
    },
    {
     "data": {
      "text/plain": [
       "<function matplotlib.pyplot.show(*args, **kw)>"
      ]
     },
     "execution_count": 5,
     "metadata": {},
     "output_type": "execute_result"
    },
    {
     "data": {
      "image/png": "[encoded data removed]",
      "text/plain": [
       "<Figure size 432x288 with 2 Axes>"
      ]
     },
     "metadata": {},
     "output_type": "display_data"
    }
   ],
   "source": [
    "cycol = cycle('bgrcmk')#colores del ciclo\n",
    "N = 60 #limite superior en x\n",
    "k = np.arange(0,N) #numeros del eje x\n",
    "l = [4,10,30] #lambda\n",
    "p = lambda k,l:(l**k*np.exp(-l))/sps.gamma(k) #función, se toma el caso particular gamma\n",
    "ones = np.ones(len(k))\n",
    "for lamb2 in l:\n",
    "    L = lamb2*ones#vector de unos por el respectivo l para generar esos puntitos\n",
    "    P = list(map(p,k,L))#se sustitullen las lambdas para todos los valores del eje x\n",
    "    c = next(cycol) #cambia color \n",
    "    #Graficar\n",
    "    plt.subplot(211)\n",
    "    plt.title('Densidad de Distrución de Probabilidad Creada')\n",
    "    plt.plot(P/np.sum(P),'o',c=c,label='$\\lambda$=%d' % lamb2, markersize=2)\n",
    "    plt.legend()\n",
    "    plt.subplot(212)\n",
    "    plt.plot(np.cumsum(P/np.sum(P)),'o',c=c,label='$\\lambda$=%s' % lamb2, markersize=3)\n",
    "    plt.title('Densidad de Distrución de Probabilidad Acumulada Creada')\n",
    "    plt.legend()\n",
    "    plt.subplots_adjust(hspace=0.5)\n",
    "plt.show()\n",
    "#Comparacióbn con Scipy stats.\n",
    "a = poisson.pmf(k, 4, loc=0)\n",
    "b = poisson.pmf(k, 10, loc=0)\n",
    "d = poisson.pmf(k, 30, loc=0)\n",
    "e = poisson.cdf(k, 4, loc=0)\n",
    "f = poisson.cdf(k, 10, loc=0)\n",
    "g = poisson.cdf(k, 30, loc=0)\n",
    "plt.subplot(211)\n",
    "plt.title('Densidad de Distrución de Probabilidad Scipy')\n",
    "plt.plot(a,'o',c='b',label='$\\lambda$=%d' % 4, markersize=2)\n",
    "plt.plot(b,'o',c='g',label='$\\lambda$=%d' % 10, markersize=2)\n",
    "plt.plot(d,'o',c='r',label='$\\lambda$=%d' % 30, markersize=2)\n",
    "plt.legend()\n",
    "plt.subplot(212)\n",
    "plt.title('Densidad de Distrución de Probabilidad Acumulada Scipy')\n",
    "plt.plot(e,'o',c='b',label='$\\lambda$=%d' % 4, markersize=2)\n",
    "plt.plot(f,'o',c='g',label='$\\lambda$=%d' % 10, markersize=2)\n",
    "plt.plot(g,'o',c='r',label='$\\lambda$=%d' % 30, markersize=2)\n",
    "plt.legend()\n",
    "plt.subplots_adjust(hspace=0.5)\n",
    "plt.show"
   ]
  },
  {
   "cell_type": "code",
   "execution_count": 6,
   "metadata": {},
   "outputs": [],
   "source": [
    "# Función que calcula la probabilidad acumulada\n",
    "def P_acum_Poisson(p,N):\n",
    "    n = N\n",
    "    pr = [np.exp(-p)]\n",
    "    add = pr.append\n",
    "    for i in range(n+1):\n",
    "        add(((p)/(i+1))*pr[-1])\n",
    "    return np.cumsum(pr)"
   ]
  },
  {
   "cell_type": "code",
   "execution_count": 7,
   "metadata": {},
   "outputs": [
    {
     "data": {
      "image/png": "[encoded data removed]",
      "text/plain": [
       "<Figure size 936x288 with 2 Axes>"
      ]
     },
     "metadata": {},
     "output_type": "display_data"
    },
    {
     "data": {
      "image/png": "[encoded data removed]",
      "text/plain": [
       "<Figure size 936x576 with 2 Axes>"
      ]
     },
     "metadata": {},
     "output_type": "display_data"
    }
   ],
   "source": [
    "p = 4; N = 10**4\n",
    "p_acum = P_acum_Poisson(p,N)\n",
    "u = np.random.rand(N)\n",
    "# Gráfica de resultados de Distribución de Probabilidad\n",
    "plt.figure(figsize=[13,4])\n",
    "plt.subplot(121)\n",
    "d_poisson = list(map(lambda j:sum(1 for i in p_acum if i<=u[j]),range(N)))\n",
    "plt.hist(d_poisson,12,density=True,label='Usando función creada lambda = 4')\n",
    "plt.title('Función de Distribución de Probabilidad')\n",
    "plt.legend()\n",
    "\n",
    "plt.subplot(122)\n",
    "d_poi_stats  = st.poisson.rvs(p,size=N)\n",
    "plt.hist(d_poi_stats,12,density=True,label='Usando ScipyStats lambda = 4')\n",
    "plt.legend()\n",
    "plt.title('Función de Distribución de Probabilidad')\n",
    "np.histogram\n",
    "plt.show()\n",
    "# Gráfica de resultados de Distribución de Probabilidad Acumulada\n",
    "\n",
    "plt.figure(figsize=[13,8])\n",
    "plt.subplot(221)\n",
    "unique, counts = np.unique(d_poisson, return_counts=True)\n",
    "plt.hist(unique,12, density=True,label='Usando función creada lambda = 4', cumulative = True , weights = counts)\n",
    "plt.title('Función de Distribución de Probabilidad Acumulada')\n",
    "plt.legend()\n",
    "\n",
    "plt.subplot(222)\n",
    "h2 = st.cumfreq(d_poi_stats, numbins=12)\n",
    "plt.hist(d_poi_stats,12,density=True,label='Usando ScipyStats lambda = 4', cumulative = True)\n",
    "plt.legend()\n",
    "plt.title('Función de Distribución de Probabilidad Acumulada')\n",
    "plt.show()"
   ]
  },
  {
   "cell_type": "code",
   "execution_count": 8,
   "metadata": {},
   "outputs": [
    {
     "data": {
      "image/png": "[encoded data removed]",
      "text/plain": [
       "<Figure size 936x288 with 2 Axes>"
      ]
     },
     "metadata": {},
     "output_type": "display_data"
    },
    {
     "data": {
      "image/png": "[encoded data removed]",
      "text/plain": [
       "<Figure size 936x576 with 2 Axes>"
      ]
     },
     "metadata": {},
     "output_type": "display_data"
    }
   ],
   "source": [
    "p = 10; N = 10**4\n",
    "p_acum = P_acum_Poisson(p,N)\n",
    "u = np.random.rand(N)\n",
    "# Gráfica de resultados de Distribución de Probabilidad\n",
    "plt.figure(figsize=[13,4])\n",
    "plt.subplot(121)\n",
    "d_poisson = list(map(lambda j:sum(1 for i in p_acum if i<=u[j]),range(N)))\n",
    "plt.hist(d_poisson,12,density=True,label='Usando función creada lambda = 10')\n",
    "plt.title('Función de Distribución de Probabilidad')\n",
    "plt.legend()\n",
    "\n",
    "plt.subplot(122)\n",
    "d_poi_stats  = st.poisson.rvs(p,size=N)\n",
    "plt.hist(d_poi_stats,12,density=True,label='Usando ScipyStats lambda = 10')\n",
    "plt.legend()\n",
    "plt.title('Función de Distribución de Probabilidad')\n",
    "np.histogram\n",
    "plt.show()\n",
    "# Gráfica de resultados de Distribución de Probabilidad Acumulada\n",
    "\n",
    "plt.figure(figsize=[13,8])\n",
    "plt.subplot(221)\n",
    "unique, counts = np.unique(d_poisson, return_counts=True)\n",
    "plt.hist(unique,12, density=True,label='Usando función creada lambda = 10', cumulative = True , weights = counts)\n",
    "plt.title('Función de Distribución de Probabilidad Acumulada')\n",
    "plt.legend()\n",
    "\n",
    "plt.subplot(222)\n",
    "h2 = st.cumfreq(d_poi_stats, numbins=12)\n",
    "plt.hist(d_poi_stats,12,density=True,label='Usando ScipyStats lambda = 10', cumulative = True)\n",
    "plt.legend()\n",
    "plt.title('Función de Distribución de Probabilidad Acumulada')\n",
    "plt.show()"
   ]
  },
  {
   "cell_type": "code",
   "execution_count": 9,
   "metadata": {},
   "outputs": [
    {
     "data": {
      "image/png": "[encoded data removed]",
      "text/plain": [
       "<Figure size 936x288 with 2 Axes>"
      ]
     },
     "metadata": {},
     "output_type": "display_data"
    },
    {
     "data": {
      "image/png": "[encoded data removed]",
      "text/plain": [
       "<Figure size 936x576 with 2 Axes>"
      ]
     },
     "metadata": {},
     "output_type": "display_data"
    }
   ],
   "source": [
    "p = 30; N = 10**4\n",
    "p_acum = P_acum_Poisson(p,N)\n",
    "u = np.random.rand(N)\n",
    "# Gráfica de resultados de Distribución de Probabilidad\n",
    "plt.figure(figsize=[13,4])\n",
    "plt.subplot(121)\n",
    "d_poisson = list(map(lambda j:sum(1 for i in p_acum if i<=u[j]),range(N)))\n",
    "plt.hist(d_poisson,12,density=True,label='Usando función creada lambda = 30')\n",
    "plt.title('Función de Distribución de Probabilidad')\n",
    "plt.legend()\n",
    "\n",
    "plt.subplot(122)\n",
    "d_poi_stats  = st.poisson.rvs(p,size=N)\n",
    "plt.hist(d_poi_stats,12,density=True,label='Usando ScipyStats lambda = 30')\n",
    "plt.legend()\n",
    "plt.title('Función de Distribución de Probabilidad')\n",
    "np.histogram\n",
    "plt.show()\n",
    "# Gráfica de resultados de Distribución de Probabilidad Acumulada\n",
    "\n",
    "plt.figure(figsize=[13,8])\n",
    "plt.subplot(221)\n",
    "unique, counts = np.unique(d_poisson, return_counts=True)\n",
    "plt.hist(unique,12, density=True,label='Usando función creada lambda = 30', cumulative = True , weights = counts)\n",
    "plt.title('Función de Distribución de Probabilidad Acumulada')\n",
    "plt.legend()\n",
    "\n",
    "plt.subplot(222)\n",
    "h2 = st.cumfreq(d_poi_stats, numbins=12)\n",
    "plt.hist(d_poi_stats,12,density=True,label='Usando ScipyStats lambda = 30', cumulative = True)\n",
    "plt.legend()\n",
    "plt.title('Función de Distribución de Probabilidad Acumulada')\n",
    "plt.show()"
   ]
  },
  {
   "cell_type": "markdown",
   "metadata": {},
   "source": [
    "# 3\n",
    "Demostrar **Teoricamente** usando el método de máxima verosimilitud, que los estimadores para los parámetros $\\mu$ y $\\sigma$ de una distribución normal, estan dados por:\n",
    "\n",
    "$$\\hat \\mu = {1\\over n}\\sum_{i=1}^n x_i,\\quad \\hat  \\sigma^2={1\\over n}\\sum_{i=1}^n (x_i-\\hat \\mu)^2$$\n",
    "\n",
    "**Recuerde que:** La distribución normal es\n",
    "$$f(x\\mid \\mu ,\\sigma ^{2})={\\frac {1}{\\sqrt {2\\pi \\sigma ^{2}}}}e^{-{\\frac {(x-\\mu )^{2}}{2\\sigma ^{2}}}}$$"
   ]
  },
  {
   "cell_type": "markdown",
   "metadata": {},
   "source": [
    "Se tiene que $f(x\\mid \\mu ,\\sigma ^{2})={\\frac {1}{\\sqrt {2\\pi \\sigma ^{2}}}}e^{-{\\frac {(x-\\mu )^{2}}{2\\sigma ^{2}}}}$, entonces se dice que $L(f) = f_{1}(x\\mid \\mu ,\\sigma ^{2})f_{2}(x\\mid \\mu ,\\sigma ^{2})f_{3}(x\\mid \\mu ,\\sigma ^{2})...f_{n}(x\\mid \\mu ,\\sigma ^{2})$, para el precedimiento se hará la siguiente simplificación $v = \\sigma^{2}$:\n",
    "\n",
    "$$L(f) = \\prod_{i=1}^{n} f_{i}(x\\mid \\mu ,v) = \\prod_{i=1}^{n}  \\frac{1}{\\sqrt{2 \\pi v}} e^{- \\frac{(x_{i} - \\mu)^2}{2 v}} \\longrightarrow (\\frac{1}{\\sqrt{2 \\pi v}})^{n} e^{- \\frac{1}{2 v} \\sum_{i=1}^n (x_i- \\mu)^2}$$\n",
    "\n",
    "Se sabe que maximizar la función de máxima verosimilitud $L(\\theta)$ es equivalente a maximizar su logaritmo $l(\\theta)= ln(L(\\theta))$, por lo que:\n",
    "\n",
    "$$ln(L(f)) = n ln(1) - n ln(\\sqrt{2 \\pi v}) - \\frac{1}{2 v} \\sum_{i=1}^n (x_i- \\mu)^2 \\longrightarrow 0 - \\frac{n}{2} ln(2 \\pi v) - \\frac{1}{2 v} \\sum_{i=1}^n (x_i- \\mu)^2 \\longrightarrow - \\frac{n}{2} ln(2 \\pi) - \\frac{n}{2} ln(v) - \\frac{1}{2 v} \\sum_{i=1}^n (x_i- \\mu)^2 $$\n",
    "\n",
    "A continuación se deriva parcialmente el resultado respecto de $\\mu$ y $v$, entonces\n",
    "\n",
    "$$ \\frac{\\partial ln(L(f))}{\\partial \\mu} = 0 - 0 - \\frac{2}{2} \\frac{1}{v} \\sum_{i=1}^n (x_i- \\mu) = \\frac{1}{v} \\sum_{i=1}^n (x_i- \\mu) $$\n",
    "\n",
    "$$ \\frac{\\partial ln(L(f))}{\\partial v} = 0 - \\frac{n}{2 v} + \\frac{1}{2 v^{2}} \\sum_{i=1}^n (x_i- \\mu) =  - \\frac{n}{2 v} + \\frac{1}{2 v^{2}} \\sum_{i=1}^n (x_i- \\mu) $$\n",
    "\n",
    "Se deben encontrar los valores $\\hat \\mu$ y $\\hat v $ que anulan los resultados obtenidos con las derivadas, es decir:\n",
    "\n",
    "$$ \\frac{1}{v} \\sum_{i=1}^n (x_i- \\mu) = 0 \\longrightarrow \\hat \\mu = {1\\over n}\\sum_{i=1}^n x_i,\\quad $$\n",
    "\n",
    "$$ - \\frac{n}{2 v} + \\frac{1}{2 v^{2}} \\sum_{i=1}^n (x_i- \\mu) = 0 \\longrightarrow \\sum_{i=1}^n (x_i- \\mu) = \\frac{n 2 v^{2}}{2 v} \\longrightarrow \\sum_{i=1}^n (x_i- \\mu) = n v \\longrightarrow\\hat v ={1\\over n}\\sum_{i=1}^n (x_i-\\hat \\mu)^2$$"
   ]
  },
  {
   "cell_type": "markdown",
   "metadata": {},
   "source": [
    "# 4\n",
    "Un banco, de acuerdo a la ley, tienen la posibilidad de poder invertir las utilidades logradas por créditos de trabajo quirografarios en dos diferentes instrumentos de inversión: El primero es inversión en deuda que presenta una utilidad promedio del 23.5% con una desviación estándar de 1.1%. El segundo es inversión a plazo donde la rentabilidad esperada se comporta como una distribución uniforme y está entre el -2% y el 9%, pero nunca entre -0.5% y 0.5%. Calcular cuál es la mejor combinación posible, si la inversión será en múltiplos de 25%, es decir (inv1 25%, Inv2 75%)-(Inv1 50%,Inv2 50%)-(Inv1 75%, Inv2 25%), simular 1000 veces (escenarios) e indicar rendimientos promedio por combinación."
   ]
  },
  {
   "cell_type": "code",
   "execution_count": 10,
   "metadata": {},
   "outputs": [
    {
     "name": "stdout",
     "output_type": "stream",
     "text": [
      "La utilidad promedio de la combinación 1 es de:   86784.37001836905\n",
      "La utilidad promedio en porcentaje de la combinación 1 es de:   8.678437001836905 %\n",
      "\n",
      "La utilidad promedio de la combinación 2 es de:  136113.6647846941\n",
      "La utilidad promedio en porcentaje de la combinación 2 es de:   13.611366478469408 %\n",
      "\n",
      "La utilidad promedio de la combinación 3 es de:  185442.95955101913\n",
      "La utilidad promedio en porcentaje de la combinación 3 es de:   18.544295955101916 %\n",
      "\n",
      "Se concluye que la tercera estrategia es la mejor de las 3,\n"
     ]
    }
   ],
   "source": [
    "N = 1000\n",
    "#de -0.02 a 0.09 hay 22 particiones de 0.005, quitando el rango intermedio quedan 18 particiones 3 del lado negativo\n",
    "#y 15 del lado positivo. Siendo una distribucion uniforme de 1000 datos 3/18 de 1000 estan en el lado negativo y 15/18\n",
    "# estan del lado positivo\n",
    "inst1 = norm.rvs(0.235,0.011, size=N)\n",
    "inst2_1 = np.random.uniform(-0.02,-0.005,167)\n",
    "inst2_2 = np.random.uniform(0.005,0.09,(1000-167))\n",
    "inst2_3 = np.concatenate((inst2_1,inst2_2), axis=0)\n",
    "inst2 = shuffle(inst2_3)\n",
    "#suponemos utilidades de 1 millon de MXN\n",
    "Noc = 1000000 #Nocional\n",
    "#inversión 1\n",
    "util_1 = (.25*Noc)*(1+inst1) + (.75*Noc)*(1+inst2)\n",
    "print('La utilidad promedio de la combinación 1 es de:  ', (util_1.mean()-Noc))\n",
    "print('La utilidad promedio en porcentaje de la combinación 1 es de:  ', 100*(util_1.mean()-Noc)/Noc,'%')\n",
    "print('')\n",
    "#inversión 2\n",
    "util_2 = (.5*Noc)*(1+inst1) + (.5*Noc)*(1+inst2)\n",
    "print('La utilidad promedio de la combinación 2 es de: ', (util_2.mean()-Noc))\n",
    "print('La utilidad promedio en porcentaje de la combinación 2 es de:  ', 100*(util_2.mean()-Noc)/Noc,'%')\n",
    "print('')\n",
    "#inversión 3\n",
    "util_3 = (.75*Noc)*(1+inst1) + (.25*Noc)*(1+inst2)\n",
    "print('La utilidad promedio de la combinación 3 es de: ', (util_3.mean()-Noc))\n",
    "print('La utilidad promedio en porcentaje de la combinación 3 es de:  ', 100*(util_3.mean()-Noc)/Noc,'%')\n",
    "print('')\n",
    "print('Se concluye que la tercera estrategia es la mejor de las 3,')"
   ]
  },
  {
   "cell_type": "markdown",
   "metadata": {},
   "source": [
    "# 5\n",
    "Considere la siguiente función de distribución de probabilidad\n",
    "$$ f(x)=\\begin{cases}400e^{-400(x-1)},& \\text{para }x\\geq 1\\\\0,& \\text{otro caso}\\end{cases}$$\n",
    "\n",
    "a). Para realizar una comparación, realice el desarrollo analítico del valor esperado.\n",
    "\n"
   ]
  },
  {
   "cell_type": "markdown",
   "metadata": {},
   "source": [
    "$$E[f(x)] = \\int_{1}^{\\infty} 400\\mathrm{e}^{-400(x-1)} dx$$ <br />\n",
    "$$400 \\int_{1}^{\\infty} \\mathrm{e}^{-400(x-1)} dx$$ <br />\n",
    "$$ u = -400(x-1) = 400 - 400x \\hspace{5mm} du = -400 dx $$ <br />\n",
    "$$\\frac{400}{-400} \\int_{0}^{-\\infty} \\mathrm{e}^{u} du = \\int_{-\\infty}^{0} \\mathrm{e}^{u} du $$ <br />\n",
    "$$ \\mathrm{e}^{u} \\big{|}_{-\\infty}^{0} = 1-0 = 1$$ <br />"
   ]
  },
  {
   "cell_type": "markdown",
   "metadata": {},
   "source": [
    "b). Realice el desarrollo teórico para obtener muestras aletorias de esta dstribución usando el método de la función inversa. Con los resultados obtenidos, genere 100 muestras y  grafique el histograma de dichas muestras aleatorias obtenidas y a su vez la función de densidad f(x), para validar los resultados obtenidos."
   ]
  },
  {
   "cell_type": "markdown",
   "metadata": {},
   "source": [
    "Para calcular la distribución usando el método de la función inversa:\n",
    "$$f(x) = 400\\mathrm{e}^{-400(x-1)}$$ <br />\n",
    "$$g(x) = inv(f(x)) \\hspace{5mm} f(x) = y $$<br />\n",
    "$$y = 400\\mathrm{e}^{-400(x-1)}$$ <br />\n",
    "$$\\frac{y}{400} = \\mathrm{e}^{-400(x-1)}$$ <br />\n",
    "$$ln \\frac{y}{400} = ln \\hspace{1mm}\\mathrm{e}^{-400(x-1)} \\longrightarrow ln \\frac{y}{400} = -400(x-1)$$ <br />\n",
    "$$ln(y) - ln(400) = -400(x-1) \\longrightarrow \\frac{ln(400)-ln(y)}{400} = x-1$$ <br />\n",
    "$$\\frac{ln(400)-ln(y)}{400} +1 = x $$ <br />\n",
    "$$g(x) = \\frac{ln(400)-ln(y)}{400} +1 $$ <br />"
   ]
  },
  {
   "cell_type": "code",
   "execution_count": 11,
   "metadata": {},
   "outputs": [
    {
     "data": {
      "image/png": "[encoded data removed]",
      "text/plain": [
       "<Figure size 432x288 with 1 Axes>"
      ]
     },
     "metadata": {},
     "output_type": "display_data"
    },
    {
     "name": "stdout",
     "output_type": "stream",
     "text": [
      "Valor esperado con la transformada inversa es:  1.0023818364756407\n",
      "El error esperado con la transformada inversa es de:  0.0023818364756407195\n"
     ]
    }
   ],
   "source": [
    "E_fx = 1\n",
    "N = 100\n",
    "datos = np.random.rand(N)*400\n",
    "x = np.linspace(1,1.03,N)\n",
    "inversa = (np.log(400/datos)/400)+1\n",
    "densidad = 400*np.exp(-400*(x-1))\n",
    "plt.hist(inversa,15, density = True)\n",
    "plt.plot(x,densidad)\n",
    "plt.show()\n",
    "E_fx_inv = np.mean(inversa)\n",
    "print('Valor esperado con la transformada inversa es: ',E_fx_inv)\n",
    "EE_fx = E_fx - E_fx\n",
    "EE_fx_inv = E_fx_inv - E_fx\n",
    "print('El error esperado con la transformada inversa es de: ',EE_fx_inv )\n"
   ]
  },
  {
   "cell_type": "markdown",
   "metadata": {},
   "source": [
    "c). Repita el inciso anterior pero en esta ocasión utilice el método de aceptación y rechazo para generar las muestras aleatorias."
   ]
  },
  {
   "cell_type": "code",
   "execution_count": 12,
   "metadata": {},
   "outputs": [
    {
     "data": {
      "image/png": "[encoded data removed]",
      "text/plain": [
       "<Figure size 432x288 with 1 Axes>"
      ]
     },
     "metadata": {},
     "output_type": "display_data"
    },
    {
     "name": "stdout",
     "output_type": "stream",
     "text": [
      "Valor esperado con aceptación y rechazo es de:  1.0153209822856315\n",
      "El error esperado con la transformada inversa es de:  0.015320982285631501\n"
     ]
    }
   ],
   "source": [
    "N = 1000\n",
    "f = lambda x: 400*np.exp(-400*(x-1))\n",
    "x = np.arange(1,1.03,0.001)\n",
    "plt.plot(x,f(x),'k')\n",
    "u1 = np.random.uniform(1,1.03,N)\n",
    "u2 = np.random.uniform(0,400,N)\n",
    "for i in range(N):\n",
    "    if u2[i] <= f(u1[i]):\n",
    "        plt.plot(u1[i],u2[i],'og')\n",
    "    else:\n",
    "        plt.plot(u1[i],u2[i],'or')\n",
    "plt.show()\n",
    "ac_re = np.mean(u1)\n",
    "print('Valor esperado con aceptación y rechazo es de: ', ac_re)\n",
    "print('El error esperado con la transformada inversa es de: ',np.mean(u1)-E_fx)"
   ]
  },
  {
   "cell_type": "markdown",
   "metadata": {},
   "source": [
    "**Se desea estimar la media de esta distribución, usando el método montecarlo crudo y sus técnicas de reducción de varianza con muestras de tamaño 10,100 y 1000. Estas cantidades de muestras para cada uno de los siguientes literales:** \n",
    "\n",
    "d). Use el método de montecarlo crudo para estimar la media."
   ]
  },
  {
   "cell_type": "code",
   "execution_count": 25,
   "metadata": {},
   "outputs": [
    {
     "name": "stdout",
     "output_type": "stream",
     "text": [
      "La media del Montecarlo crudo con 10 es: 1.7280219776198587\n",
      "La media del Montecarlo crudo con 100 es: 1.6009742863359728\n",
      "La media del Montecarlo crudo con 1000 es: 1.0534118503884777\n"
     ]
    }
   ],
   "source": [
    "# Integración montecarlo\n",
    "def int_montecarlo(f:'Función a integrar',\n",
    "                   a:'Límite inferior de la integral',\n",
    "                   b:'Límite superior de la integral',\n",
    "                   U:'Muestra de números U~[a,b]'):\n",
    "    return (b-a)/len(U)*np.sum(f(U))\n",
    "N = [10,100,1000]\n",
    "a = 1\n",
    "b = 1.03\n",
    "U = list(map(lambda N:np.random.uniform(a,b,N),N)) # Números aleatorios dependiente de la cantidad de términos N\n",
    "I_m = list(map(lambda Y:int_montecarlo(lambda x: 400*np.exp(-400*(x-1)),a,b,Y),U)) # Calculamos la aproximación por montecarlo dependiendo de la cantidad de términos que hayamos creado con ui\n",
    "#por el tipo de distribución tan \"delgada\", la aproximación es pésima con pocos datos.\n",
    "print('La media del Montecarlo crudo con 10 es:',I_m[0])\n",
    "print('La media del Montecarlo crudo con 100 es:',I_m[1])\n",
    "print('La media del Montecarlo crudo con 1000 es:',I_m[2])"
   ]
  },
  {
   "cell_type": "markdown",
   "metadata": {},
   "source": [
    "e). Use el método de muestreo estratificado con 5 estratos $0\\leq F(x)\\leq0.3, 0.3\\leq F(x)\\leq0.5, 0.5\\leq F(x)\\leq0.7, 0.7\\leq F(x)\\leq0.9 $ y $0.9\\leq F(x) \\leq 1$. Reparta el total de muestras en los estratos de la siguiente forma: estrato 1, 2, 3, 4, 5, 20%,20%,25%,15% y 20% de las muestras respectivamente."
   ]
  },
  {
   "cell_type": "markdown",
   "metadata": {},
   "source": [
    "Para calcular la distribución acumulada:\n",
    "$$f(x) = 400\\mathrm{e}^{-400(x-1)}$$ <br />\n",
    "$$F(x) = \\int_{1}^{x} 400\\mathrm{e}^{-400(x-1)} dx $$\n",
    "$$400 \\int_{1}^{x} \\mathrm{e}^{-400(x-1)} dx$$ <br />\n",
    "$$ u = -400(x-1) = 400 - 400x \\hspace{5mm} du = -400 dx $$ <br />\n",
    "$$\\frac{400}{-400} \\int_{400}^{-400(x-1)} \\mathrm{e}^{u} du = \\int_{-400(x-1)}^{0} \\mathrm{e}^{u} du $$ <br />\n",
    "$$ \\mathrm{e}^{u} \\big{|}_{-400(x-1)}^{0} = 1 - \\mathrm{e}^{-400(x-1)}$$ <br />\n",
    "$$ inv(F(x)) = -\\frac{ln(1-x)}{400} +1$$"
   ]
  },
  {
   "cell_type": "code",
   "execution_count": 26,
   "metadata": {},
   "outputs": [
    {
     "name": "stdout",
     "output_type": "stream",
     "text": [
      "La media por el metodo de MonteCarlo estratificado es de 10 muestras es de:  1.002644259205106\n"
     ]
    }
   ],
   "source": [
    "N=10\n",
    "r1 = np.random.uniform(0,0.3,2)\n",
    "r2 = np.random.uniform(0.3,0.5,2)\n",
    "r3 = np.random.uniform(0.5,0.7,3)\n",
    "r4 = np.random.uniform(0.7,0.9,1)\n",
    "r5 = np.random.uniform(0.9,1,2)\n",
    "r  = [r1,r2,r3,r4,r5]\n",
    "m  = range(len(r))\n",
    "# Pesos\n",
    "w1 = (len(r1)/N)/0.30\n",
    "w2 = (len(r2)/N)/0.20\n",
    "w3 = (len(r3)/N)/0.20\n",
    "w4 = (len(r4)/N)/0.20\n",
    "w5 = (len(r5)/N)/0.10\n",
    "w  = [w1,w2,w3,w4,w5]\n",
    "# Calculo\n",
    "xi_estra2 = list(map(lambda r: -((np.log(1-r))/(400))+1,r))\n",
    "muestras = np.concatenate([(xi_estra2[i]/w[i]) for i in m])\n",
    "m_estrat1 = np.mean(muestras)\n",
    "print('La media por el metodo de MonteCarlo estratificado es de 10 muestras es de: ',m_estrat1)"
   ]
  },
  {
   "cell_type": "code",
   "execution_count": 27,
   "metadata": {},
   "outputs": [
    {
     "name": "stdout",
     "output_type": "stream",
     "text": [
      "La media por el metodo de MonteCarlo estratificado es de 100 muestras es de:  1.0025878362180163\n"
     ]
    }
   ],
   "source": [
    "N=100\n",
    "r1 = np.random.uniform(0,0.3,20)\n",
    "r2 = np.random.uniform(0.3,0.5,20)\n",
    "r3 = np.random.uniform(0.5,0.7,25)\n",
    "r4 = np.random.uniform(0.7,0.9,15)\n",
    "r5 = np.random.uniform(0.9,1,20)\n",
    "r  = [r1,r2,r3,r4,r5]\n",
    "m  = range(len(r))\n",
    "# Pesos\n",
    "w1 = (len(r1)/N)/0.30\n",
    "w2 = (len(r2)/N)/0.20\n",
    "w3 = (len(r3)/N)/0.20\n",
    "w4 = (len(r4)/N)/0.20\n",
    "w5 = (len(r5)/N)/0.10\n",
    "w  = [w1,w2,w3,w4,w5]\n",
    "# Calculo\n",
    "xi_estra2 = list(map(lambda r: -((np.log(1-r))/(400))+1,r))\n",
    "muestras = np.concatenate([(xi_estra2[i]/w[i]) for i in m])\n",
    "m_estrat2 = np.mean(muestras)\n",
    "print('La media por el metodo de MonteCarlo estratificado es de 100 muestras es de: ',m_estrat2)"
   ]
  },
  {
   "cell_type": "code",
   "execution_count": 28,
   "metadata": {},
   "outputs": [
    {
     "name": "stdout",
     "output_type": "stream",
     "text": [
      "La media por el metodo de MonteCarlo estratificado es de 1000 muestras es de:  1.002480678473923\n"
     ]
    }
   ],
   "source": [
    "N=1000\n",
    "r1 = np.random.uniform(0,0.3,200)\n",
    "r2 = np.random.uniform(0.3,0.5,200)\n",
    "r3 = np.random.uniform(0.5,0.7,250)\n",
    "r4 = np.random.uniform(0.7,0.9,150)\n",
    "r5 = np.random.uniform(0.9,1,200)\n",
    "r  = [r1,r2,r3,r4,r5]\n",
    "m  = range(len(r))\n",
    "# Pesos\n",
    "w1 = (len(r1)/N)/0.30\n",
    "w2 = (len(r2)/N)/0.20\n",
    "w3 = (len(r3)/N)/0.20\n",
    "w4 = (len(r4)/N)/0.20\n",
    "w5 = (len(r5)/N)/0.10\n",
    "w  = [w1,w2,w3,w4,w5]\n",
    "# Calculo\n",
    "xi_estra2 = list(map(lambda r: -((np.log(1-r))/(400))+1,r))\n",
    "muestras = np.concatenate([(xi_estra2[i]/w[i]) for i in m])\n",
    "m_estrat3 = np.mean(muestras)\n",
    "print('La media por el metodo de MonteCarlo estratificado es de 1000 muestras es de: ',m_estrat3)"
   ]
  },
  {
   "cell_type": "markdown",
   "metadata": {},
   "source": [
    "f). Use el método de los números complementarios."
   ]
  },
  {
   "cell_type": "code",
   "execution_count": 31,
   "metadata": {},
   "outputs": [
    {
     "name": "stdout",
     "output_type": "stream",
     "text": [
      "La media por el metodo de MonteCarlo numero complementarios es de= 1.2189193183851785\n",
      "La media por el metodo de MonteCarlo numero complementarios es de= 1.0365382602088065\n",
      "La media por el metodo de MonteCarlo numero complementarios es de= 1.0266101771267082\n"
     ]
    }
   ],
   "source": [
    "def Met_comp(M:'muestras'):\n",
    "    # Generación de Números aleatorios\n",
    "    ri = np.random.rand(M)\n",
    "    xi = (-np.log(ri)/400) + 1\n",
    "    # Media de observaciones aleatorias\n",
    "    m_rand = np.mean(xi)\n",
    "    # Números aleatorios complementarios\n",
    "    ri_c = 1-ri\n",
    "    xi_c = -np.log(ri_c)\n",
    "    # Media de observaciones complementarias\n",
    "    m_comple = np.mean(xi_c)\n",
    "    m_estimada = (m_rand+m_comple)/2\n",
    "    return m_estimada\n",
    "m_estimada1 = Met_comp(10)\n",
    "m_estimada2 = Met_comp(100)\n",
    "m_estimada3 = Met_comp(1000)\n",
    "print('La media por el metodo de MonteCarlo numero complementarios es de=',m_estimada1)\n",
    "print('La media por el metodo de MonteCarlo numero complementarios es de=',m_estimada2)\n",
    "print('La media por el metodo de MonteCarlo numero complementarios es de=',m_estimada3)"
   ]
  },
  {
   "cell_type": "markdown",
   "metadata": {},
   "source": [
    "g). Finalmente use el método de estratificación en el cúal se divide en N estratos."
   ]
  },
  {
   "cell_type": "code",
   "execution_count": 55,
   "metadata": {},
   "outputs": [
    {
     "name": "stdout",
     "output_type": "stream",
     "text": [
      "La media del Montecarlo crudo con 10 es: 1.3187796157482943\n",
      "La media del Montecarlo crudo con 100 es: 1.007408161569305\n",
      "La media del Montecarlo crudo con 1000 es: 0.9999475165497054\n"
     ]
    }
   ],
   "source": [
    "# Integración montecarlo\n",
    "def Muestreo_estratificado(B:'número de estratos',a:'limite inferior',b:'limite superior'):\n",
    "    delta = (b-a)/B\n",
    "    v=[]\n",
    "    i = 0\n",
    "    while i <= B-1:\n",
    "        v.append(np.random.uniform(a+i*delta,a+(i+1)*delta,1))\n",
    "        i+=1\n",
    "    v = np.concatenate(v, axis=0 )\n",
    "    return v\n",
    "N = [10,100,1000]\n",
    "a = 1\n",
    "b = 1.03\n",
    "vi_1 = Muestreo_estratificado(N[0],a,b) # Números aleatorios dependiente de la cantidad de términos N\n",
    "vi_2 = Muestreo_estratificado(N[1],a,b)\n",
    "vi_3 = Muestreo_estratificado(N[2],a,b)\n",
    "np.random.shuffle(vi_1)\n",
    "np.random.shuffle(vi_2)\n",
    "np.random.shuffle(vi_3)\n",
    "I_estra_1 = np.mean(int_montecarlo(lambda x: 400*np.exp(-400*(x-1)),a,b,vi_1)) # Calculamos la aproximación por montecarlo dependiendo de la cantidad de términos que hayamos creado con ui\n",
    "I_estra_2 = np.mean(int_montecarlo(lambda x: 400*np.exp(-400*(x-1)),a,b,vi_2)) # Calculamos la aproximación por montecarlo dependiendo de la cantidad de términos que hayamos creado con ui\n",
    "I_estra_3 = np.mean(int_montecarlo(lambda x: 400*np.exp(-400*(x-1)),a,b,vi_3)) # Calculamos la aproximación por montecarlo dependiendo de la cantidad de términos que hayamos creado con ui\n",
    "print('La media del Montecarlo crudo con 10 es:',I_estra_1)\n",
    "print('La media del Montecarlo crudo con 100 es:',I_estra_2)\n",
    "print('La media del Montecarlo crudo con 1000 es:',I_estra_3)"
   ]
  },
  {
   "cell_type": "markdown",
   "metadata": {},
   "source": [
    "h). Compare todos los resulados obtenidos con cada método en una tabla unsando la librería pandas, donde muestre segun la cantidad de términos usados, la aproximación de la media aproximada y su error relativo con el valor obtenido en el inciso a)."
   ]
  },
  {
   "cell_type": "code",
   "execution_count": 56,
   "metadata": {},
   "outputs": [
    {
     "data": {
      "text/html": [
       "<div>\n",
       "<style scoped>\n",
       "    .dataframe tbody tr th:only-of-type {\n",
       "        vertical-align: middle;\n",
       "    }\n",
       "\n",
       "    .dataframe tbody tr th {\n",
       "        vertical-align: top;\n",
       "    }\n",
       "\n",
       "    .dataframe thead th {\n",
       "        text-align: right;\n",
       "    }\n",
       "</style>\n",
       "<table border=\"1\" class=\"dataframe\">\n",
       "  <thead>\n",
       "    <tr style=\"text-align: right;\">\n",
       "      <th></th>\n",
       "      <th>Cantidad de Muestras</th>\n",
       "      <th>Media Aproximada</th>\n",
       "      <th>Error</th>\n",
       "    </tr>\n",
       "    <tr>\n",
       "      <th>Pruebas</th>\n",
       "      <th></th>\n",
       "      <th></th>\n",
       "      <th></th>\n",
       "    </tr>\n",
       "  </thead>\n",
       "  <tbody>\n",
       "    <tr>\n",
       "      <th>M. Analítico</th>\n",
       "      <td>0</td>\n",
       "      <td>1.000000</td>\n",
       "      <td>0.000000</td>\n",
       "    </tr>\n",
       "    <tr>\n",
       "      <th>M. Transformada Inversa</th>\n",
       "      <td>1000</td>\n",
       "      <td>1.002382</td>\n",
       "      <td>0.002382</td>\n",
       "    </tr>\n",
       "    <tr>\n",
       "      <th>M. Aceptación-Rechazo</th>\n",
       "      <td>1000</td>\n",
       "      <td>1.015321</td>\n",
       "      <td>0.015321</td>\n",
       "    </tr>\n",
       "    <tr>\n",
       "      <th>Montecarlo Crudo</th>\n",
       "      <td>10</td>\n",
       "      <td>1.728022</td>\n",
       "      <td>0.728022</td>\n",
       "    </tr>\n",
       "    <tr>\n",
       "      <th></th>\n",
       "      <td>100</td>\n",
       "      <td>1.600974</td>\n",
       "      <td>0.600974</td>\n",
       "    </tr>\n",
       "    <tr>\n",
       "      <th></th>\n",
       "      <td>1000</td>\n",
       "      <td>1.053412</td>\n",
       "      <td>0.053412</td>\n",
       "    </tr>\n",
       "    <tr>\n",
       "      <th>M. Estratificado</th>\n",
       "      <td>10</td>\n",
       "      <td>1.002644</td>\n",
       "      <td>0.002644</td>\n",
       "    </tr>\n",
       "    <tr>\n",
       "      <th></th>\n",
       "      <td>100</td>\n",
       "      <td>1.002588</td>\n",
       "      <td>0.002588</td>\n",
       "    </tr>\n",
       "    <tr>\n",
       "      <th></th>\n",
       "      <td>1000</td>\n",
       "      <td>1.002481</td>\n",
       "      <td>0.002481</td>\n",
       "    </tr>\n",
       "    <tr>\n",
       "      <th>M. Complementarios</th>\n",
       "      <td>10</td>\n",
       "      <td>1.218919</td>\n",
       "      <td>0.218919</td>\n",
       "    </tr>\n",
       "    <tr>\n",
       "      <th></th>\n",
       "      <td>100</td>\n",
       "      <td>1.036538</td>\n",
       "      <td>0.036538</td>\n",
       "    </tr>\n",
       "    <tr>\n",
       "      <th></th>\n",
       "      <td>1000</td>\n",
       "      <td>1.026610</td>\n",
       "      <td>0.026610</td>\n",
       "    </tr>\n",
       "    <tr>\n",
       "      <th>M. Estratificado B</th>\n",
       "      <td>10</td>\n",
       "      <td>1.318780</td>\n",
       "      <td>0.318780</td>\n",
       "    </tr>\n",
       "    <tr>\n",
       "      <th></th>\n",
       "      <td>100</td>\n",
       "      <td>1.007408</td>\n",
       "      <td>0.007408</td>\n",
       "    </tr>\n",
       "    <tr>\n",
       "      <th></th>\n",
       "      <td>1000</td>\n",
       "      <td>0.999948</td>\n",
       "      <td>0.000052</td>\n",
       "    </tr>\n",
       "  </tbody>\n",
       "</table>\n",
       "</div>"
      ],
      "text/plain": [
       "                         Cantidad de Muestras  Media Aproximada     Error\n",
       "Pruebas                                                                  \n",
       "M. Analítico                                0          1.000000  0.000000\n",
       "M. Transformada Inversa                  1000          1.002382  0.002382\n",
       "M. Aceptación-Rechazo                    1000          1.015321  0.015321\n",
       "Montecarlo Crudo                           10          1.728022  0.728022\n",
       "                                          100          1.600974  0.600974\n",
       "                                         1000          1.053412  0.053412\n",
       "M. Estratificado                           10          1.002644  0.002644\n",
       "                                          100          1.002588  0.002588\n",
       "                                         1000          1.002481  0.002481\n",
       "M. Complementarios                         10          1.218919  0.218919\n",
       "                                          100          1.036538  0.036538\n",
       "                                         1000          1.026610  0.026610\n",
       "M. Estratificado B                         10          1.318780  0.318780\n",
       "                                          100          1.007408  0.007408\n",
       "                                         1000          0.999948  0.000052"
      ]
     },
     "execution_count": 56,
     "metadata": {},
     "output_type": "execute_result"
    }
   ],
   "source": [
    "metodo = ['M. Analítico', 'M. Transformada Inversa','M. Aceptación-Rechazo','Montecarlo Crudo','','','M. Estratificado ','','','M. Complementarios','','','M. Estratificado B','','']\n",
    "muestras = [0,1000,1000,10,100,1000,10,100,1000,10,100,1000,10,100,1000]\n",
    "mean = [E_fx,E_fx_inv,ac_re,I_m[0],I_m[1],I_m[2],m_estrat1,m_estrat2,m_estrat3,m_estimada1,m_estimada2,m_estimada3,I_estra_1,I_estra_2,I_estra_3]\n",
    "mean = np.array(mean)\n",
    "error = abs((mean-E_fx)/E_fx)\n",
    "tabla = pd.DataFrame(index=metodo,columns=['Cantidad de Muestras','Media Aproximada','Error'])\n",
    "tabla.index.name = \"Pruebas\"\n",
    "tabla['Cantidad de Muestras'] = muestras\n",
    "tabla['Media Aproximada'] = mean\n",
    "tabla['Error'] = error\n",
    "tabla"
   ]
  },
  {
   "attachments": {
    "imagen.png": {
     "image/png": "[encoded data removed]"
    }
   },
   "cell_type": "markdown",
   "metadata": {},
   "source": [
    "# 6\n",
    "![imagen.png](attachment:imagen.png)\n",
    "\n",
    "## <font color = 'red'> Nota: </font> Use el método de integración montecarlo visto en clase.\n",
    "    \n",
    "a). Use el método de montecarlo para aproximar el valor de pi para muestras de tamaño 100,1000,10000,1000000 y comparelo con su valor real. "
   ]
  },
  {
   "cell_type": "markdown",
   "metadata": {},
   "source": [
    "Sabemos que el área del cuadrado es: $1$ unidad × $1$ unidad = $1$ Unidades cuadradas. El área de la región más cercana al origen es una cuarta parte del área de un círculo, es decir: $\\frac{\\pi  r^{2}}{4}$. Dado que el radio $r$ mide 1 Unidad el área de la región de un cuarto de cículo equivale a $\\frac{\\pi 1^{2}}{4} = \\frac{\\pi}{4}$ Unidades cuadradas.\n",
    "\n",
    "En el juego de los dardos se puede ejemplificar una forma de calcular el número $\\pi$. Si $N$ es el total de dardos lanzados y $a$ es la cantidad de dardos que dieron en la región de un cuarto de círculo, entonces se puede considerar que $\\frac{a}{N}$ se aproxima al cociente del área del cuarto de círculo $\\frac{\\pi}{4}$ Unidades cuadradas entre el área de todo el tablero $1$ Unidades cuadradas:\n",
    "$$\\frac{\\frac{\\pi}{4}}{\\frac{1}{1}} = \\frac{a}{N} \\longrightarrow \\frac{\\pi}{4} = \\frac{a}{N}$$\n",
    "$$ \\pi = \\frac{4 a}{N} $$"
   ]
  },
  {
   "cell_type": "code",
   "execution_count": 57,
   "metadata": {},
   "outputs": [],
   "source": [
    "def Monte_Carlo_Pi(N:'muestras'):\n",
    "    c = 0 #contador de estimación\n",
    "    a = 0 #contador de estimación\n",
    "    while c < N:\n",
    "        x = np.random.rand() #aleatorio entre [0,1] del eje x\n",
    "        y = np.random.rand() #aleatorio entre [0,1] del eje y\n",
    "        if x**2+y**2 <= 1: #condicionde triangulo caraterístico\n",
    "            a+=1 #contador de estimación de cumplimiento de condicion\n",
    "        c += 1 #contador de estimación de NO cumplimiento de condicion\n",
    "    pi = 4*(a)/N #\n",
    "    return pi"
   ]
  },
  {
   "cell_type": "code",
   "execution_count": 59,
   "metadata": {},
   "outputs": [
    {
     "data": {
      "text/html": [
       "<div>\n",
       "<style scoped>\n",
       "    .dataframe tbody tr th:only-of-type {\n",
       "        vertical-align: middle;\n",
       "    }\n",
       "\n",
       "    .dataframe tbody tr th {\n",
       "        vertical-align: top;\n",
       "    }\n",
       "\n",
       "    .dataframe thead th {\n",
       "        text-align: right;\n",
       "    }\n",
       "</style>\n",
       "<table border=\"1\" class=\"dataframe\">\n",
       "  <thead>\n",
       "    <tr style=\"text-align: right;\">\n",
       "      <th></th>\n",
       "      <th>Valor Pi</th>\n",
       "      <th>Error</th>\n",
       "    </tr>\n",
       "    <tr>\n",
       "      <th>Iteraciones</th>\n",
       "      <th></th>\n",
       "      <th></th>\n",
       "    </tr>\n",
       "  </thead>\n",
       "  <tbody>\n",
       "    <tr>\n",
       "      <th>0</th>\n",
       "      <td>3.141593</td>\n",
       "      <td>0.000000</td>\n",
       "    </tr>\n",
       "    <tr>\n",
       "      <th>10</th>\n",
       "      <td>2.400000</td>\n",
       "      <td>0.236056</td>\n",
       "    </tr>\n",
       "    <tr>\n",
       "      <th>100</th>\n",
       "      <td>3.080000</td>\n",
       "      <td>0.019606</td>\n",
       "    </tr>\n",
       "    <tr>\n",
       "      <th>1000</th>\n",
       "      <td>3.144000</td>\n",
       "      <td>0.000766</td>\n",
       "    </tr>\n",
       "    <tr>\n",
       "      <th>10000</th>\n",
       "      <td>3.121600</td>\n",
       "      <td>0.006364</td>\n",
       "    </tr>\n",
       "    <tr>\n",
       "      <th>1000000</th>\n",
       "      <td>3.141364</td>\n",
       "      <td>0.000073</td>\n",
       "    </tr>\n",
       "  </tbody>\n",
       "</table>\n",
       "</div>"
      ],
      "text/plain": [
       "             Valor Pi     Error\n",
       "Iteraciones                    \n",
       "0            3.141593  0.000000\n",
       "10           2.400000  0.236056\n",
       "100          3.080000  0.019606\n",
       "1000         3.144000  0.000766\n",
       "10000        3.121600  0.006364\n",
       "1000000      3.141364  0.000073"
      ]
     },
     "execution_count": 59,
     "metadata": {},
     "output_type": "execute_result"
    }
   ],
   "source": [
    "pi = np.array([np.pi,Monte_Carlo_Pi(10),Monte_Carlo_Pi(100),Monte_Carlo_Pi(1000),Monte_Carlo_Pi(10000),Monte_Carlo_Pi(1000000)])\n",
    "error = abs((pi-np.pi)/np.pi)\n",
    "#Grafica\n",
    "N = [0,10,100,1000,10000,1000000]\n",
    "tabla = pd.DataFrame(index=N,columns=['Valor Pi','Error'])\n",
    "tabla.index.name = \"Iteraciones\"\n",
    "tabla['Valor Pi'] = pi\n",
    "tabla['Error'] = error\n",
    "tabla"
   ]
  },
  {
   "cell_type": "markdown",
   "metadata": {},
   "source": [
    "b). Repita el inciso anterior usando todos los método de reducción de varianza utilizados en el ejercicio *5*, para constrastar los resultados . Explique sus resultados."
   ]
  },
  {
   "cell_type": "code",
   "execution_count": 60,
   "metadata": {},
   "outputs": [],
   "source": [
    "def Monte_Carlo_Pi_Crudo(N:'muestras',a:'Límite inferior de la integral',b:'Límite superior de la integral',f:'función'):\n",
    "    c = 0 #contador de estimación\n",
    "    a = 0 #contador de estimación\n",
    "    while c < N:\n",
    "        x = np.random.uniform(a,b,N) #aleatorio entre [0,1] del eje x\n",
    "        y = np.random.uniform(a,b,N) #aleatorio entre [0,1] del eje y\n",
    "        for i in range(N):\n",
    "            if f(x[i],y[i]) <= 1: #condicionde triangulo caraterístico\n",
    "                a+=1 #contador de estimación de cumplimiento de condicion\n",
    "            c += 1 #contador de estimación de NO cumplimiento de condicion\n",
    "    pi = 4*(a)/N #\n",
    "    return pi"
   ]
  },
  {
   "cell_type": "code",
   "execution_count": 61,
   "metadata": {},
   "outputs": [
    {
     "name": "stdout",
     "output_type": "stream",
     "text": [
      "La media estimada de pi del Montecarlo crudo con 10 es: 2.8\n",
      "La media estimada de pi del Montecarlo crudo con 100 es: 3.2\n",
      "La media estimada de pi del Montecarlo crudo con 1000 es: 3.156\n",
      "La media estimada de pi del Montecarlo crudo con 10000 es: 3.1604\n",
      "La media estimada de pi del Montecarlo crudo con 1000000 es: 3.141888\n"
     ]
    }
   ],
   "source": [
    "#Montecarlo Crudo\n",
    "N = [10,100,1000,10000,1000000]\n",
    "a = 0\n",
    "b = 1\n",
    "pi_mc1 = Monte_Carlo_Pi_Crudo(N[0],a,b,lambda x,y: x**2+y**2) # Calculamos la aproximación por montecarlo dependiendo de la cantidad de términos que hayamos creado con ui\n",
    "pi_mc2 = Monte_Carlo_Pi_Crudo(N[1],a,b,lambda x,y: x**2+y**2)\n",
    "pi_mc3 = Monte_Carlo_Pi_Crudo(N[2],a,b,lambda x,y: x**2+y**2)\n",
    "pi_mc4 = Monte_Carlo_Pi_Crudo(N[3],a,b,lambda x,y: x**2+y**2) \n",
    "pi_mc5 = Monte_Carlo_Pi_Crudo(N[4],a,b,lambda x,y: x**2+y**2)\n",
    "print('La media estimada de pi del Montecarlo crudo con 10 es:',pi_mc1)\n",
    "print('La media estimada de pi del Montecarlo crudo con 100 es:',pi_mc2)\n",
    "print('La media estimada de pi del Montecarlo crudo con 1000 es:',pi_mc3)\n",
    "print('La media estimada de pi del Montecarlo crudo con 10000 es:',pi_mc4)\n",
    "print('La media estimada de pi del Montecarlo crudo con 1000000 es:',pi_mc5)"
   ]
  },
  {
   "cell_type": "code",
   "execution_count": 62,
   "metadata": {},
   "outputs": [],
   "source": [
    "def Monte_Carlo_Pi_Est(x:'aleatorios1 ya evaluados en f = lambda x,y: x**2+y**2',N):\n",
    "    c = 0 #contador de estimación\n",
    "    a = 0 #contador de estimación\n",
    "    for i in range(N):\n",
    "        if x[i] <= 1: #condicionde triangulo caraterístico\n",
    "            a+=1 #contador de estimación de cumplimiento de condicion\n",
    "        c += 1 #contador de estimación de NO cumplimiento de condicion\n",
    "    pi = 4*(a)/N #\n",
    "    return pi"
   ]
  },
  {
   "cell_type": "code",
   "execution_count": 63,
   "metadata": {},
   "outputs": [
    {
     "name": "stdout",
     "output_type": "stream",
     "text": [
      "La media por el metodo de MonteCarlo estratificado es de 100 muestras es de:  2.8\n"
     ]
    }
   ],
   "source": [
    "N=10\n",
    "r11 = np.random.uniform(0,0.3,2)\n",
    "r12 = np.random.uniform(0.3,0.5,2)\n",
    "r13 = np.random.uniform(0.5,0.7,3)\n",
    "r14 = np.random.uniform(0.7,0.9,1)\n",
    "r15 = np.random.uniform(0.9,1,2)\n",
    "rs1  = [r11,r12,r13,r14,r15]\n",
    "r21 = np.random.uniform(0,0.3,2)\n",
    "r22 = np.random.uniform(0.3,0.5,2)\n",
    "r23 = np.random.uniform(0.5,0.7,3)\n",
    "r24 = np.random.uniform(0.7,0.9,1)\n",
    "r25 = np.random.uniform(0.9,1,2)\n",
    "rs2  = [r21,r22,r23,r24,r25]\n",
    "m  = range(len(rs1))\n",
    "# Pesos\n",
    "w1 = (len(r1)/N)/0.30\n",
    "w2 = (len(r2)/N)/0.20\n",
    "w3 = (len(r3)/N)/0.20\n",
    "w4 = (len(r4)/N)/0.20\n",
    "w5 = (len(r5)/N)/0.10\n",
    "w  = [w1,w2,w3,w4,w5]\n",
    "# Calculo\n",
    "xi_estra = list(map(lambda x,y: x**2+y**2,rs1,rs2))\n",
    "for i in m:\n",
    "    xi_estra[i]/w[i]        \n",
    "muestras = Monte_Carlo_Pi_Est(np.concatenate(xi_estra, axis = 0),N)\n",
    "pi_estrat1 = np.mean(muestras)\n",
    "print('La media por el metodo de MonteCarlo estratificado es de 100 muestras es de: ',pi_estrat1)"
   ]
  },
  {
   "cell_type": "code",
   "execution_count": 64,
   "metadata": {},
   "outputs": [
    {
     "name": "stdout",
     "output_type": "stream",
     "text": [
      "La media por el metodo de MonteCarlo estratificado es de 100 muestras es de:  3.0\n"
     ]
    }
   ],
   "source": [
    "N=100\n",
    "r11 = np.random.uniform(0,0.3,20)\n",
    "r12 = np.random.uniform(0.3,0.5,20)\n",
    "r13 = np.random.uniform(0.5,0.7,35)\n",
    "r14 = np.random.uniform(0.7,0.9,15)\n",
    "r15 = np.random.uniform(0.9,1,20)\n",
    "rs1  = [r11,r12,r13,r14,r15]\n",
    "r21 = np.random.uniform(0,0.3,20)\n",
    "r22 = np.random.uniform(0.3,0.5,20)\n",
    "r23 = np.random.uniform(0.5,0.7,35)\n",
    "r24 = np.random.uniform(0.7,0.9,15)\n",
    "r25 = np.random.uniform(0.9,1,20)\n",
    "rs2  = [r21,r22,r23,r24,r25]\n",
    "m  = range(len(rs1))\n",
    "# Pesos\n",
    "w1 = (len(r1)/N)/0.30\n",
    "w2 = (len(r2)/N)/0.20\n",
    "w3 = (len(r3)/N)/0.20\n",
    "w4 = (len(r4)/N)/0.20\n",
    "w5 = (len(r5)/N)/0.10\n",
    "w  = [w1,w2,w3,w4,w5]\n",
    "# Calculo\n",
    "xi_estra = list(map(lambda x,y: x**2+y**2,rs1,rs2))\n",
    "for i in m:\n",
    "    xi_estra[i]/w[i]        \n",
    "muestras = Monte_Carlo_Pi_Est(np.concatenate(xi_estra, axis = 0),N)\n",
    "pi_estrat2 = np.mean(muestras)\n",
    "print('La media por el metodo de MonteCarlo estratificado es de 100 muestras es de: ',pi_estrat2)"
   ]
  },
  {
   "cell_type": "code",
   "execution_count": 65,
   "metadata": {},
   "outputs": [
    {
     "name": "stdout",
     "output_type": "stream",
     "text": [
      "La media por el metodo de MonteCarlo estratificado es de 100 muestras es de:  3.0\n"
     ]
    }
   ],
   "source": [
    "N=1000\n",
    "r11 = np.random.uniform(0,0.3,200)\n",
    "r12 = np.random.uniform(0.3,0.5,200)\n",
    "r13 = np.random.uniform(0.5,0.7,350)\n",
    "r14 = np.random.uniform(0.7,0.9,150)\n",
    "r15 = np.random.uniform(0.9,1,200)\n",
    "rs1  = [r11,r12,r13,r14,r15]\n",
    "r21 = np.random.uniform(0,0.3,200)\n",
    "r22 = np.random.uniform(0.3,0.5,200)\n",
    "r23 = np.random.uniform(0.5,0.7,350)\n",
    "r24 = np.random.uniform(0.7,0.9,150)\n",
    "r25 = np.random.uniform(0.9,1,200)\n",
    "rs2  = [r21,r22,r23,r24,r25]\n",
    "m  = range(len(rs1))\n",
    "# Pesos\n",
    "w1 = (len(r1)/N)/0.30\n",
    "w2 = (len(r2)/N)/0.20\n",
    "w3 = (len(r3)/N)/0.20\n",
    "w4 = (len(r4)/N)/0.20\n",
    "w5 = (len(r5)/N)/0.10\n",
    "w  = [w1,w2,w3,w4,w5]\n",
    "# Calculo\n",
    "xi_estra = list(map(lambda x,y: x**2+y**2,rs1,rs2))\n",
    "for i in m:\n",
    "    xi_estra[i]/w[i]        \n",
    "muestras = Monte_Carlo_Pi_Est(np.concatenate(xi_estra, axis = 0),N)\n",
    "pi_estrat3 = np.mean(muestras)\n",
    "print('La media por el metodo de MonteCarlo estratificado es de 100 muestras es de: ',pi_estrat3)"
   ]
  },
  {
   "cell_type": "code",
   "execution_count": 66,
   "metadata": {},
   "outputs": [
    {
     "name": "stdout",
     "output_type": "stream",
     "text": [
      "La media por el metodo de MonteCarlo estratificado es de 100 muestras es de:  3.0004\n"
     ]
    }
   ],
   "source": [
    "N=10000\n",
    "r11 = np.random.uniform(0,0.3,2000)\n",
    "r12 = np.random.uniform(0.3,0.5,2000)\n",
    "r13 = np.random.uniform(0.5,0.7,3500)\n",
    "r14 = np.random.uniform(0.7,0.9,1500)\n",
    "r15 = np.random.uniform(0.9,1,2000)\n",
    "rs1  = [r11,r12,r13,r14,r15]\n",
    "r21 = np.random.uniform(0,0.3,2000)\n",
    "r22 = np.random.uniform(0.3,0.5,2000)\n",
    "r23 = np.random.uniform(0.5,0.7,3500)\n",
    "r24 = np.random.uniform(0.7,0.9,1500)\n",
    "r25 = np.random.uniform(0.9,1,2000)\n",
    "rs2  = [r21,r22,r23,r24,r25]\n",
    "m  = range(len(rs1))\n",
    "# Pesos\n",
    "w1 = (len(r1)/N)/0.30\n",
    "w2 = (len(r2)/N)/0.20\n",
    "w3 = (len(r3)/N)/0.20\n",
    "w4 = (len(r4)/N)/0.20\n",
    "w5 = (len(r5)/N)/0.10\n",
    "w  = [w1,w2,w3,w4,w5]\n",
    "# Calculo\n",
    "xi_estra = list(map(lambda x,y: x**2+y**2,rs1,rs2))\n",
    "for i in m:\n",
    "    xi_estra[i]/w[i]        \n",
    "muestras = Monte_Carlo_Pi_Est(np.concatenate(xi_estra, axis = 0),N)\n",
    "pi_estrat4 = np.mean(muestras)\n",
    "print('La media por el metodo de MonteCarlo estratificado es de 100 muestras es de: ',pi_estrat4)"
   ]
  },
  {
   "cell_type": "code",
   "execution_count": 67,
   "metadata": {},
   "outputs": [
    {
     "name": "stdout",
     "output_type": "stream",
     "text": [
      "La media por el metodo de MonteCarlo estratificado es de 100 muestras es de:  3.0016\n"
     ]
    }
   ],
   "source": [
    "N=1000000\n",
    "r11 = np.random.uniform(0,0.3,200000)\n",
    "r12 = np.random.uniform(0.3,0.5,200000)\n",
    "r13 = np.random.uniform(0.5,0.7,350000)\n",
    "r14 = np.random.uniform(0.7,0.9,150000)\n",
    "r15 = np.random.uniform(0.9,1,200000)\n",
    "rs1  = [r11,r12,r13,r14,r15]\n",
    "r21 = np.random.uniform(0,0.3,200000)\n",
    "r22 = np.random.uniform(0.3,0.5,200000)\n",
    "r23 = np.random.uniform(0.5,0.7,350000)\n",
    "r24 = np.random.uniform(0.7,0.9,150000)\n",
    "r25 = np.random.uniform(0.9,1,200000)\n",
    "rs2  = [r21,r22,r23,r24,r25]\n",
    "m  = range(len(rs1))\n",
    "# Pesos\n",
    "w1 = (len(r1)/N)/0.30\n",
    "w2 = (len(r2)/N)/0.20\n",
    "w3 = (len(r3)/N)/0.20\n",
    "w4 = (len(r4)/N)/0.20\n",
    "w5 = (len(r5)/N)/0.10\n",
    "w  = [w1,w2,w3,w4,w5]\n",
    "# Calculo\n",
    "xi_estra = list(map(lambda x,y: x**2+y**2,rs1,rs2))\n",
    "for i in m:\n",
    "    xi_estra[i]/w[i]        \n",
    "muestras = Monte_Carlo_Pi_Est(np.concatenate(xi_estra, axis = 0),N)\n",
    "pi_estrat5 = np.mean(muestras)\n",
    "print('La media por el metodo de MonteCarlo estratificado es de 100 muestras es de: ',pi_estrat5)"
   ]
  },
  {
   "cell_type": "code",
   "execution_count": 68,
   "metadata": {},
   "outputs": [
    {
     "name": "stdout",
     "output_type": "stream",
     "text": [
      "La media por el metodo de MonteCarlo numero complementarios 10 es de= 3.0\n",
      "La media por el metodo de MonteCarlo numero complementarios 100 es de= 3.1\n",
      "La media por el metodo de MonteCarlo numero complementarios 1000 es de= 3.16\n",
      "La media por el metodo de MonteCarlo numero complementarios 10000 es de= 3.154\n",
      "La media por el metodo de MonteCarlo numero complementarios 1000000 es de= 3.142582\n"
     ]
    }
   ],
   "source": [
    "def Met_comp(M:'muestras'):\n",
    "    # Generación de Números aleatorios\n",
    "    ri1 = np.random.rand(M)\n",
    "    ri2 = np.random.rand(M)\n",
    "    f = lambda x,y: x**2+y**2\n",
    "    xi = Monte_Carlo_Pi_Est(f(ri1,ri2),M)\n",
    "    # Media de observaciones aleatorias\n",
    "    m_rand = np.mean(xi)\n",
    "    # Números aleatorios complementarios\n",
    "    ri_c1 = 1-ri1\n",
    "    ri_c2 = 1-ri2\n",
    "    xi_c = Monte_Carlo_Pi_Est(f(ri_c1,ri_c2),M)    \n",
    "    # Media de observaciones complementarias\n",
    "    m_comple = np.mean(xi_c)\n",
    "    m_estimada = (m_rand+m_comple)/2\n",
    "    return m_estimada\n",
    "pi_estimada1 = Met_comp(10)\n",
    "pi_estimada2 = Met_comp(100)\n",
    "pi_estimada3 = Met_comp(1000)\n",
    "pi_estimada4 = Met_comp(10000)\n",
    "pi_estimada5 = Met_comp(1000000)\n",
    "print('La media por el metodo de MonteCarlo numero complementarios 10 es de=',pi_estimada1)\n",
    "print('La media por el metodo de MonteCarlo numero complementarios 100 es de=',pi_estimada2)\n",
    "print('La media por el metodo de MonteCarlo numero complementarios 1000 es de=',pi_estimada3)\n",
    "print('La media por el metodo de MonteCarlo numero complementarios 10000 es de=',pi_estimada4)\n",
    "print('La media por el metodo de MonteCarlo numero complementarios 1000000 es de=',pi_estimada5)"
   ]
  },
  {
   "cell_type": "code",
   "execution_count": 69,
   "metadata": {},
   "outputs": [],
   "source": [
    "# Integración montecarlo\n",
    "def Muestreo_estratificado(B:'número de estratos',a:'limite inferior',b:'limite superior'):\n",
    "    delta = (b-a)/B\n",
    "    v=[]\n",
    "    i = 0\n",
    "    while i <= B-1:\n",
    "        v.append(np.random.uniform(a+i*delta,a+(i+1)*delta,1))\n",
    "        i+=1\n",
    "    v = np.concatenate(v, axis=0)\n",
    "    return v\n",
    "N = [10,100,1000,10000,1000000]\n",
    "a = 0\n",
    "b = 1\n",
    "vi_11 = Muestreo_estratificado(N[0],a,b) # Números aleatorios dependiente de la cantidad de términos N\n",
    "vi_12 = Muestreo_estratificado(N[1],a,b)\n",
    "vi_13 = Muestreo_estratificado(N[2],a,b)\n",
    "vi_14 = Muestreo_estratificado(N[3],a,b)\n",
    "vi_15 = Muestreo_estratificado(N[4],a,b)\n",
    "vi_21 = Muestreo_estratificado(N[0],a,b) # Números aleatorios dependiente de la cantidad de términos N\n",
    "vi_22 = Muestreo_estratificado(N[1],a,b)\n",
    "vi_23 = Muestreo_estratificado(N[2],a,b)\n",
    "vi_24 = Muestreo_estratificado(N[3],a,b)\n",
    "vi_25 = Muestreo_estratificado(N[4],a,b)"
   ]
  },
  {
   "cell_type": "code",
   "execution_count": 70,
   "metadata": {},
   "outputs": [
    {
     "name": "stdout",
     "output_type": "stream",
     "text": [
      "La media del Montecarlo crudo con 10 es: 3.2\n",
      "La media del Montecarlo crudo con 100 es: 3.32\n",
      "La media del Montecarlo crudo con 1000 es: 3.132\n",
      "La media del Montecarlo crudo con 10000 es: 3.1328\n",
      "La media del Montecarlo crudo con 1000000 es: 3.144288\n"
     ]
    }
   ],
   "source": [
    "#para evitar sesgo se reacomodan aleatoriamente los numeros aleatorios generados estratificadamente\n",
    "np.random.shuffle(vi_11)\n",
    "np.random.shuffle(vi_12)\n",
    "np.random.shuffle(vi_13)\n",
    "np.random.shuffle(vi_14)\n",
    "np.random.shuffle(vi_15)\n",
    "np.random.shuffle(vi_21)\n",
    "np.random.shuffle(vi_22)\n",
    "np.random.shuffle(vi_23)\n",
    "np.random.shuffle(vi_24)\n",
    "np.random.shuffle(vi_25)\n",
    "#Aplicacion del modelo\n",
    "pi_estra_1 = np.asarray(list(map(lambda x,y: x**2+y**2,vi_11,vi_21)))\n",
    "pi_estra_2 = np.asarray(list(map(lambda x,y: x**2+y**2,vi_12,vi_22)))\n",
    "pi_estra_3 = np.asarray(list(map(lambda x,y: x**2+y**2,vi_13,vi_23)))\n",
    "pi_estra_4 = np.asarray(list(map(lambda x,y: x**2+y**2,vi_14,vi_24)))\n",
    "pi_estra_5 = np.asarray(list(map(lambda x,y: x**2+y**2,vi_15,vi_25)))\n",
    "pi_estB_1 = np.mean(Monte_Carlo_Pi_Est(pi_estra_1,N[0]))\n",
    "pi_estB_2 = np.mean(Monte_Carlo_Pi_Est(pi_estra_2,N[1]))\n",
    "pi_estB_3 = np.mean(Monte_Carlo_Pi_Est(pi_estra_3,N[2]))\n",
    "pi_estB_4 = np.mean(Monte_Carlo_Pi_Est(pi_estra_4,N[3]))\n",
    "pi_estB_5 = np.mean(Monte_Carlo_Pi_Est(pi_estra_5,N[4]))\n",
    "print('La media del Montecarlo crudo con 10 es:',pi_estB_1)\n",
    "print('La media del Montecarlo crudo con 100 es:',pi_estB_2)\n",
    "print('La media del Montecarlo crudo con 1000 es:',pi_estB_3)\n",
    "print('La media del Montecarlo crudo con 10000 es:',pi_estB_4)\n",
    "print('La media del Montecarlo crudo con 1000000 es:',pi_estB_5)"
   ]
  },
  {
   "cell_type": "code",
   "execution_count": 71,
   "metadata": {},
   "outputs": [
    {
     "data": {
      "text/html": [
       "<div>\n",
       "<style scoped>\n",
       "    .dataframe tbody tr th:only-of-type {\n",
       "        vertical-align: middle;\n",
       "    }\n",
       "\n",
       "    .dataframe tbody tr th {\n",
       "        vertical-align: top;\n",
       "    }\n",
       "\n",
       "    .dataframe thead th {\n",
       "        text-align: right;\n",
       "    }\n",
       "</style>\n",
       "<table border=\"1\" class=\"dataframe\">\n",
       "  <thead>\n",
       "    <tr style=\"text-align: right;\">\n",
       "      <th></th>\n",
       "      <th>Cantidad de Muestras</th>\n",
       "      <th>Media Aproximada</th>\n",
       "      <th>Error</th>\n",
       "    </tr>\n",
       "    <tr>\n",
       "      <th>Pruebas</th>\n",
       "      <th></th>\n",
       "      <th></th>\n",
       "      <th></th>\n",
       "    </tr>\n",
       "  </thead>\n",
       "  <tbody>\n",
       "    <tr>\n",
       "      <th>M. Analítico</th>\n",
       "      <td>0</td>\n",
       "      <td>3.141593</td>\n",
       "      <td>0.000000</td>\n",
       "    </tr>\n",
       "    <tr>\n",
       "      <th>Montecarlo Crudo</th>\n",
       "      <td>10</td>\n",
       "      <td>2.800000</td>\n",
       "      <td>0.108732</td>\n",
       "    </tr>\n",
       "    <tr>\n",
       "      <th></th>\n",
       "      <td>100</td>\n",
       "      <td>3.200000</td>\n",
       "      <td>0.018592</td>\n",
       "    </tr>\n",
       "    <tr>\n",
       "      <th></th>\n",
       "      <td>1000</td>\n",
       "      <td>3.156000</td>\n",
       "      <td>0.004586</td>\n",
       "    </tr>\n",
       "    <tr>\n",
       "      <th></th>\n",
       "      <td>10000</td>\n",
       "      <td>3.160400</td>\n",
       "      <td>0.005987</td>\n",
       "    </tr>\n",
       "    <tr>\n",
       "      <th></th>\n",
       "      <td>1000000</td>\n",
       "      <td>3.141888</td>\n",
       "      <td>0.000094</td>\n",
       "    </tr>\n",
       "    <tr>\n",
       "      <th>M. Estratificado</th>\n",
       "      <td>10</td>\n",
       "      <td>2.800000</td>\n",
       "      <td>0.108732</td>\n",
       "    </tr>\n",
       "    <tr>\n",
       "      <th></th>\n",
       "      <td>100</td>\n",
       "      <td>3.000000</td>\n",
       "      <td>0.045070</td>\n",
       "    </tr>\n",
       "    <tr>\n",
       "      <th></th>\n",
       "      <td>1000</td>\n",
       "      <td>3.000000</td>\n",
       "      <td>0.045070</td>\n",
       "    </tr>\n",
       "    <tr>\n",
       "      <th></th>\n",
       "      <td>10000</td>\n",
       "      <td>3.000400</td>\n",
       "      <td>0.044943</td>\n",
       "    </tr>\n",
       "    <tr>\n",
       "      <th></th>\n",
       "      <td>1000000</td>\n",
       "      <td>3.001600</td>\n",
       "      <td>0.044561</td>\n",
       "    </tr>\n",
       "    <tr>\n",
       "      <th>M. Complementarios</th>\n",
       "      <td>10</td>\n",
       "      <td>3.000000</td>\n",
       "      <td>0.045070</td>\n",
       "    </tr>\n",
       "    <tr>\n",
       "      <th></th>\n",
       "      <td>100</td>\n",
       "      <td>3.100000</td>\n",
       "      <td>0.013239</td>\n",
       "    </tr>\n",
       "    <tr>\n",
       "      <th></th>\n",
       "      <td>1000</td>\n",
       "      <td>3.160000</td>\n",
       "      <td>0.005859</td>\n",
       "    </tr>\n",
       "    <tr>\n",
       "      <th></th>\n",
       "      <td>10000</td>\n",
       "      <td>3.154000</td>\n",
       "      <td>0.003949</td>\n",
       "    </tr>\n",
       "    <tr>\n",
       "      <th></th>\n",
       "      <td>1000000</td>\n",
       "      <td>3.142582</td>\n",
       "      <td>0.000315</td>\n",
       "    </tr>\n",
       "    <tr>\n",
       "      <th>M. Estratificado B</th>\n",
       "      <td>10</td>\n",
       "      <td>3.200000</td>\n",
       "      <td>0.018592</td>\n",
       "    </tr>\n",
       "    <tr>\n",
       "      <th></th>\n",
       "      <td>100</td>\n",
       "      <td>3.320000</td>\n",
       "      <td>0.056789</td>\n",
       "    </tr>\n",
       "    <tr>\n",
       "      <th></th>\n",
       "      <td>1000</td>\n",
       "      <td>3.132000</td>\n",
       "      <td>0.003053</td>\n",
       "    </tr>\n",
       "    <tr>\n",
       "      <th></th>\n",
       "      <td>10000</td>\n",
       "      <td>3.132800</td>\n",
       "      <td>0.002799</td>\n",
       "    </tr>\n",
       "    <tr>\n",
       "      <th></th>\n",
       "      <td>1000000</td>\n",
       "      <td>3.144288</td>\n",
       "      <td>0.000858</td>\n",
       "    </tr>\n",
       "  </tbody>\n",
       "</table>\n",
       "</div>"
      ],
      "text/plain": [
       "                    Cantidad de Muestras  Media Aproximada     Error\n",
       "Pruebas                                                             \n",
       "M. Analítico                           0          3.141593  0.000000\n",
       "Montecarlo Crudo                      10          2.800000  0.108732\n",
       "                                     100          3.200000  0.018592\n",
       "                                    1000          3.156000  0.004586\n",
       "                                   10000          3.160400  0.005987\n",
       "                                 1000000          3.141888  0.000094\n",
       "M. Estratificado                      10          2.800000  0.108732\n",
       "                                     100          3.000000  0.045070\n",
       "                                    1000          3.000000  0.045070\n",
       "                                   10000          3.000400  0.044943\n",
       "                                 1000000          3.001600  0.044561\n",
       "M. Complementarios                    10          3.000000  0.045070\n",
       "                                     100          3.100000  0.013239\n",
       "                                    1000          3.160000  0.005859\n",
       "                                   10000          3.154000  0.003949\n",
       "                                 1000000          3.142582  0.000315\n",
       "M. Estratificado B                    10          3.200000  0.018592\n",
       "                                     100          3.320000  0.056789\n",
       "                                    1000          3.132000  0.003053\n",
       "                                   10000          3.132800  0.002799\n",
       "                                 1000000          3.144288  0.000858"
      ]
     },
     "execution_count": 71,
     "metadata": {},
     "output_type": "execute_result"
    }
   ],
   "source": [
    "metodo = ['M. Analítico', 'Montecarlo Crudo','','','','','M. Estratificado ','','','','','M. Complementarios','','','','','M. Estratificado B','','','','']\n",
    "muestras = [0,10,100,1000,10000,1000000,10,100,1000,10000,1000000,10,100,1000,10000,1000000,10,100,1000,10000,1000000]\n",
    "mean = [np.pi,pi_mc1,pi_mc2,pi_mc3,pi_mc4,pi_mc5,pi_estrat1,pi_estrat2,pi_estrat3,pi_estrat4,pi_estrat5,pi_estimada1,pi_estimada2,pi_estimada3,pi_estimada4,pi_estimada5,pi_estB_1,pi_estB_2,pi_estB_3,pi_estB_4,pi_estB_5]\n",
    "mean = np.array(mean)\n",
    "error = abs((mean-np.pi)/np.pi)\n",
    "tabla = pd.DataFrame(index=metodo,columns=['Cantidad de Muestras','Media Aproximada','Error'])\n",
    "tabla.index.name = \"Pruebas\"\n",
    "tabla['Cantidad de Muestras'] = muestras\n",
    "tabla['Media Aproximada'] = mean\n",
    "tabla['Error'] = error\n",
    "tabla"
   ]
  },
  {
   "cell_type": "markdown",
   "metadata": {},
   "source": [
    "Se concluye que para el calculo del número $\\pi$ los métodos que fallan son los de estratificación por que al hacerlo directamente relacionas en $x^{2}+y^{2}$ numerós de tamaños similares, es decir, pequeños con pequeños, y grandes con grandes."
   ]
  },
  {
   "cell_type": "markdown",
   "metadata": {},
   "source": [
    "**Valor de los ejercicios**\n",
    "- 1- 2 puntos\n",
    "- 2- 2 puntos\n",
    "- 3- 1 punto\n",
    "- 4- 1 punto\n",
    "- 5- 3 puntos\n",
    "- 6- 1 punto"
   ]
  },
  {
   "cell_type": "markdown",
   "metadata": {},
   "source": [
    "<script>\n",
    "  $(document).ready(function(){\n",
    "    $('div.prompt').hide();\n",
    "    $('div.back-to-top').hide();\n",
    "    $('nav#menubar').hide();\n",
    "    $('.breadcrumb').hide();\n",
    "    $('.hidden-print').hide();\n",
    "  });\n",
    "</script>\n",
    "\n",
    "<footer id=\"attribution\" style=\"float:right; color:#808080; background:#fff;\">\n",
    "Created with Jupyter by Oscar David Jaramillo Zuluaga.\n",
    "</footer>"
   ]
  }
 ],
 "metadata": {
  "kernelspec": {
   "display_name": "Python 3",
   "language": "python",
   "name": "python3"
  },
  "language_info": {
   "codemirror_mode": {
    "name": "ipython",
    "version": 3
   },
   "file_extension": ".py",
   "mimetype": "text/x-python",
   "name": "python",
   "nbconvert_exporter": "python",
   "pygments_lexer": "ipython3",
   "version": "3.6.5"
  }
 },
 "nbformat": 4,
 "nbformat_minor": 2
}
