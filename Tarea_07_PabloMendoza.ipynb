{
 "cells": [
  {
   "cell_type": "markdown",
   "metadata": {},
   "source": [
    "# Clase 7\n",
    "\n",
    "El objetivo con esta sesión es entender las nociones básicas y metodología, para realizar una simulación de algún proceso de nuestra vida cotidiana o profesional. "
   ]
  },
  {
   "cell_type": "markdown",
   "metadata": {},
   "source": [
    "## Etapas para realizar un estudio de simulación\n",
    "\n",
    "> - *Definición del sistema*: determinar la interacción del sistema con otros sistemas, restricciones, interacción e interrelación de variables de interés y los resultados esperados.\n",
    "> - *Formulación de un modelo*: Es necesario definir todas las variables que forman parte del sistema y además definir un diagrama de flujo que describa la forma completa del modelo.\n",
    "> - *Colección de datos*: Definir los datos necesarios para el modelo. Datos pueden provenir de registros contables, órdenes de trabajo, órdenes de compra, opiniones de expertos y si no hay otro remedio por experimentación.\n",
    "> - *Validación*: En esta etapa es posible detectar deficiencias en la formulación del modelo o en los datos sumunistrados al modelo. Formas de validar un modelo son:\n",
    "    - Opinión de expertos.\n",
    "    - Exactitud con que se predicen datos hitóricos.\n",
    "    - Exactitud de la predicción del futuro.\n",
    "    - La aceptación y confianza en el modelo de la perdona que hará uso de los resultados que arroje el experimento de simulación.\n",
    "    \n",
    "> - *Experimentación*: La experimentación con el modelo se realiza después de que éste ha sido validado. La experimentación consiste en generar los datos deseados y en realizar el análisis de sensibilidad de los índices requeridos.\n",
    "> - *Interpretación*: Se interpretan los resultados que arroja la simulación y en base a esto se toma una decisión.\n",
    "> - *Documentación*: \n",
    "    - Datos que debe de tener el modelo\n",
    "    - Manual de usurario\n",
    "        "
   ]
  },
  {
   "cell_type": "markdown",
   "metadata": {},
   "source": [
    "# Ejemplo de aplicación- Cafetería Central\n",
    "\n",
    "Premisas para la simulación:\n",
    "- Negocio de alimentos que vende bebidas y alimentos.\n",
    "- Negocio dentro del ITESO.\n",
    "- Negocio en cafetería central.\n",
    "- Tipo de clientes (hombres y mujeres).\n",
    "- Rentabilidad del 60%.\n",
    "\n",
    "## Objetivo\n",
    "Realizar una simulación estimado el tiempo medio que se tardaran los clientes en ser atendidos entre el horario de 6:30 a 1 pm. Además saber el consumo. \n",
    "**Analizar supuestos y limitantes**\n",
    "\n",
    "## Supuestos en simulación\n",
    "Clasificación de clientes: \n",
    "- Mujer  = 1 $\\longrightarrow$ aleatorio < 0.5\n",
    "- Hombre = 0 $\\longrightarrow$ aleatorio $\\geq$ 0.5.\n",
    "\n",
    "Condiciones iniciales:\n",
    "- Tiempo de simulación: 6:30 am - 1pm $\\longrightarrow$ T = 7 horas = 25200 seg.\n",
    "- Tiempo de llegada hasta ser atendido: Min=5seg, Max=30seg.\n",
    "- Tiempo que tardan los clientes en ser atendidos:\n",
    "    - Mujer: Min = 1 min= 60seg, Max = 5 min = 300 seg\n",
    "    - Hombre: Min = 40 seg, Max = 2 min= 120 seg\n",
    "- Consumo según el tipo de cliente:\n",
    "    - Mujer: Min = 30 pesos, Max = 100 pesos\n",
    "    - Hombre: Min = 20 pesos, Max = 80 pesos\n"
   ]
  },
  {
   "cell_type": "code",
   "execution_count": 24,
   "metadata": {},
   "outputs": [
    {
     "name": "stdout",
     "output_type": "stream",
     "text": [
      "El cantidad total de los clientes atendidos fueron:  [223, 228, 230, 223, 226]\n",
      "El cantidad promedio de los clientes atendidos fueron:  226.0\n",
      "Los hombres gastaron:  [5374.552303022753, 5644.661420475509, 5469.4701799539625, 5505.299960554105, 5399.300625361108]\n",
      "Los hombres gastaron en promedio:  5478.656897873488\n",
      "Las mujeres gastaron:  [7376.659412234129, 8070.898794149628, 7541.891007496633, 7569.543981955535, 7763.887379389971]\n",
      "Las mujeres gastaron en promedio:  7664.57611504518\n",
      "Los ingresos totales fue de:  [725830.1553149793, 791094.8709490646, 750234.6805299199, 735425.6616009651, 761311.9064828329]\n",
      "Los ingresos promedio fue de:  752779.4549755524\n",
      "La rentabilidad fue de:  [435498.09318899 474656.92256944 450140.80831795 441255.39696058\n",
      " 456787.1438897 ]\n",
      "La rentabilidad promedio fue de:  451667.67298533145\n",
      "El tiempo de atención total fue de:  [25272.12779050934, 25297.33102789697, 25220.18029874989, 25214.051940332803, 25242.023884655126]\n",
      "El tiempo de atención promedio fue de:  25249.142988428826\n",
      "El tiempo de atención promedio por persona fue de:  111.72187163021604\n"
     ]
    }
   ],
   "source": [
    "# Importación de paquetes\n",
    "import numpy as np\n",
    "# Programa realizado en clase de forma conjunta\n",
    "T = 25200 #Tiempo\n",
    "d = 5 #Cantidad de dias\n",
    "Tat_min = 5; Tat_max=30 #Tiempo de Llegada hasta ser Atendidos\n",
    "Tmujer_min = 60; Tmujer_max = 150 #Tiempo de Atencion Mujeres\n",
    "Thombre_min = 40; Thombre_max = 120 #Tiempo de Atencion Hombres\n",
    "Gmujer_min = 30; Gmujer_max = 100 #Gasto Mujeres\n",
    "Ghombre_min = 20; Ghombre_max=80 #Gasto Hombres\n",
    "#Variables vacias para meter resultados\n",
    "P = np.random.rand(T)\n",
    "Gtot =[]\n",
    "Ghom = []\n",
    "Gmuj = []\n",
    "Pate = []\n",
    "Tate = []\n",
    "#Simulación\n",
    "for j in range(d):\n",
    "    ghom = 0 # Gasto hombres\n",
    "    gmuj = 0 # Gasto mujeres\n",
    "    gtot = 0 # Gasto total\n",
    "    pate = 0 # Personas atendidas\n",
    "    tate = 0 # Tiempo de atencion\n",
    "    thom = 0 # Tiempo de atencion Hombres\n",
    "    tmuj = 0 # Tiempo de atencion Mujeres\n",
    "    i = 0 #Numero de persona\n",
    "    while T >= tate:\n",
    "        tllegada = np.random.uniform(Tat_min,Tat_max)\n",
    "        if P[i]<0.5:\n",
    "            tmuj = np.random.uniform(Tmujer_min, Tmujer_max)\n",
    "            gmuj += np.random.uniform(Gmujer_min, Gmujer_max)\n",
    "            tate += tmuj + tllegada\n",
    "            gtot += gmuj\n",
    "        else:\n",
    "            thom = np.random.uniform(Thombre_min, Thombre_max)\n",
    "            ghom += np.random.uniform(Ghombre_min, Ghombre_max)\n",
    "            tate += thom + tllegada\n",
    "            gtot += ghom\n",
    "        i+=1\n",
    "    Ghom.append(ghom)\n",
    "    Gmuj.append(gmuj)\n",
    "    Pate.append(i)\n",
    "    Tate.append(tate)\n",
    "    Gtot.append(gtot)\n",
    "print(\"El cantidad total de los clientes atendidos fueron: \",Pate)\n",
    "print(\"El cantidad promedio de los clientes atendidos fueron: \",np.mean(Pate))\n",
    "print(\"Los hombres gastaron: \",Ghom)\n",
    "print(\"Los hombres gastaron en promedio: \",np.mean(Ghom))\n",
    "print(\"Las mujeres gastaron: \",Gmuj)\n",
    "print(\"Las mujeres gastaron en promedio: \",np.mean(Gmuj))\n",
    "print(\"Los ingresos totales fue de: \",Gtot)\n",
    "print(\"Los ingresos promedio fue de: \",np.mean(Gtot))\n",
    "print(\"La rentabilidad fue de: \",np.array(Gtot)*.6)\n",
    "print(\"La rentabilidad promedio fue de: \",np.mean(np.array(Gtot)*.6))\n",
    "print(\"El tiempo de atención total fue de: \",Tate)\n",
    "print(\"El tiempo de atención promedio fue de: \",np.mean(Tate))\n",
    "print(\"El tiempo de atención promedio por persona fue de: \",np.mean(Tate)/np.mean(Pate))"
   ]
  },
  {
   "cell_type": "code",
   "execution_count": null,
   "metadata": {},
   "outputs": [],
   "source": []
  }
 ],
 "metadata": {
  "kernelspec": {
   "display_name": "Python 3",
   "language": "python",
   "name": "python3"
  },
  "language_info": {
   "codemirror_mode": {
    "name": "ipython",
    "version": 3
   },
   "file_extension": ".py",
   "mimetype": "text/x-python",
   "name": "python",
   "nbconvert_exporter": "python",
   "pygments_lexer": "ipython3",
   "version": "3.6.5"
  }
 },
 "nbformat": 4,
 "nbformat_minor": 2
}
