{
 "cells": [
  {
   "cell_type": "markdown",
   "metadata": {},
   "source": [
    "## Ejercicios con Python Tarea Clase 14\n",
    "### Pablo Ángel Mendoza Aguirre"
   ]
  },
  {
   "cell_type": "markdown",
   "metadata": {},
   "source": [
    "Consider the probability distribution whose probability density function is:\n",
    "$$f(x) = \\begin{cases}\\frac{3}{2}x^{2}, &-1\\leq x \\leq 1\\\\ 0,& 1 < x < -1 \\end{cases}$$\n",
    "The problem is to perform a simulated experiment. with the help of varaince-reducing techniques, for estimating the mean of this distribution. To provide a standard of comparison, also derive the mean analytically.\n",
    "For each of the following cases, use the same 10 uniform random numbers (obtained as instructed at the beginning od the Problems section) to generate random observations, and caalculate the resulting estimate of the mean.\n",
    "> 1. Use the crude Monte Carlo Technique\n",
    "> 2. Use stratified sampling with three strata $0 \\leq F(x) \\leq 0.6, 0.6 \\leq F(x) \\leq 0.9, 0.9 \\leq F(x) \\leq 1 $, with 3, 3, 4 observations, respectively.\n",
    "> 3. Use the method of complementary random numbers.\n",
    "> 4. Use the stratification method with B strats, as seen before and compare the results with points 1, 2 and 3, using 2, 4, 6, 10 strats. give a conclusion about it."
   ]
  },
  {
   "cell_type": "code",
   "execution_count": 13,
   "metadata": {},
   "outputs": [],
   "source": [
    "import numpy as np\n",
    "import pandas as pd\n",
    "import scipy.stats as st\n",
    "from itertools import cycle\n",
    "import matplotlib.pyplot as plt"
   ]
  },
  {
   "cell_type": "markdown",
   "metadata": {},
   "source": [
    "Se tiene que $f(x) = \\begin{cases}\\frac{3}{2}x^{2}, &-1\\leq x \\leq 1\\\\ 0,& 1 < x < -1 \\end{cases}$\n",
    "\n",
    "El valor esperado de $f(x)$ esta dado por: \n",
    "$$E[x] = \\int_{-\\infty}^{-\\infty} x f(x) dx = \\int_{-1}^{1} x \\frac{3}{2} x^{2} dx = \\frac{3}{2} \\int_{-1}^{1}  x^{3} dx = \\frac{3}{2} \\frac{x^{4}}{4} \\Big|_{-1}^{1} = \\frac{3}{8} [1 - 1] = 0$$\n",
    "\n",
    "La función de distribución acumulada sería:\n",
    "$$F(x) =  \\int_{-\\infty}^{x} f(x) dx = \\int_{-1}^{x} \\frac{3}{2} x^{2} dx = \\frac{3}{2} \\int_{-1}^{x} x^{2} dx = \\frac{3}{2} \\frac{x^{3}}{3} \\Big|_{-1}^{x} = \\frac{x^{3}}{2} \\Big|_{-1}^{x} = \\frac{x^{3}}{2} - \\frac{-1}{2} = \\frac{x^{3} + 1}{2} = -\\frac{-x^{3} - 1}{2}$$\n",
    "\n",
    "Método de la transformada inversa:\n",
    "$$y = -\\frac{- x^{3} - 1}{2} \\longrightarrow -2 y = -x^{3} - 1 \\longrightarrow -2 y + 1 = -x^{3} \\longrightarrow -x = [- 2y + 1]^{\\frac{1}{3}} \\longrightarrow x = -[- 2y + 1]^{\\frac{1}{3}}$$\n",
    "\n",
    "Que está definida de la siguiente forma $-[- 2y + 1]^{\\frac{1}{3}}$ si $y \\leq 0.5$ y $[2y - 1]^{\\frac{1}{3}}$ si $y \\geq 0.5$"
   ]
  },
  {
   "cell_type": "code",
   "execution_count": 14,
   "metadata": {},
   "outputs": [
    {
     "data": {
      "image/png": "[encoded data removed]",
      "text/plain": [
       "<Figure size 432x288 with 1 Axes>"
      ]
     },
     "metadata": {},
     "output_type": "display_data"
    }
   ],
   "source": [
    "# Número de muestras a generar \n",
    "N2 = 10000 \n",
    "# Función obtenida usando transformada inversa\n",
    "xi = lambda u: -(-2*u+1)**(1/3) if u<.5 else (2*u-1)**(1/3)\n",
    "f = lambda x: (3/2)*x**2 if x<=1 and x>=-1 else 0\n",
    "# Validación de la función creada\n",
    "x = np.arange(-1,1,0.001)\n",
    "plt.plot(x,list(map(f,x)))\n",
    "u = np.random.rand(N2)\n",
    "randon_f = list(map(xi,u))\n",
    "plt.hist(randon_f,50,density=True)\n",
    "plt.title('Validación de la distribución creada')\n",
    "plt.show()"
   ]
  },
  {
   "cell_type": "markdown",
   "metadata": {},
   "source": [
    "1. Use the crude Monte Carlo Technique"
   ]
  },
  {
   "cell_type": "code",
   "execution_count": 23,
   "metadata": {},
   "outputs": [
    {
     "name": "stdout",
     "output_type": "stream",
     "text": [
      "Estimacíon de la media = 0.41484577982771526\n"
     ]
    }
   ],
   "source": [
    "np.random.seed(5555)\n",
    "N = 10\n",
    "# Usando montecarlo crudo\n",
    "u1 = np.random.rand(N)\n",
    "mean_mon_crudo = np.mean(list(map(xi,u1)))\n",
    "print('Estimacíon de la media =',mean_mon_crudo)"
   ]
  },
  {
   "cell_type": "markdown",
   "metadata": {},
   "source": [
    "2. Use stratified sampling with three strata $0 \\leq F(x) \\leq 0.6, 0.6 \\leq F(x) \\leq 0.9, 0.9 \\leq F(x) \\leq 1 $, with 3, 3, 4 observations, respectively."
   ]
  },
  {
   "cell_type": "code",
   "execution_count": 24,
   "metadata": {},
   "outputs": [
    {
     "name": "stdout",
     "output_type": "stream",
     "text": [
      "Estimacíon de la media = -0.08915550594539501\n"
     ]
    }
   ],
   "source": [
    "# Usando muestreo estratificado 1\n",
    "np.random.seed(5555)\n",
    "r1 = np.random.uniform(0,0.6,3)\n",
    "r2 = np.random.uniform(0.6,0.9,3)\n",
    "r3 = np.random.uniform(0.9,1,4)\n",
    "r  = [r1,r2,r3]\n",
    "m  = range(len(r))  # Cantidad de estratos\n",
    "w  = [1/2,1,4]\n",
    "estrat1 = list(map(lambda r:np.array(list(map(xi,r))),r))\n",
    "muestras = list(map(lambda wi,xi:xi/wi,w,estrat1))\n",
    "print('Estimacíon de la media =',np.concatenate(muestras).mean())"
   ]
  },
  {
   "cell_type": "markdown",
   "metadata": {},
   "source": [
    "3. Use the method of complementary random numbers."
   ]
  },
  {
   "cell_type": "code",
   "execution_count": 25,
   "metadata": {},
   "outputs": [
    {
     "name": "stdout",
     "output_type": "stream",
     "text": [
      "Estimacíon de la media = 0.0\n"
     ]
    }
   ],
   "source": [
    "u_comp = 1-u1\n",
    "mean_aux = np.mean(list(map(xi,u_comp)))\n",
    "mean_nume_compleme = (mean_mon_crudo+mean_aux)/2\n",
    "print('Estimacíon de la media =',mean_nume_compleme)"
   ]
  },
  {
   "cell_type": "markdown",
   "metadata": {},
   "source": [
    "4. Use the stratification method with B strats, as seen before and compare the results with points 1, 2 and 3, using 2, 4, 6, 10 strats. give a comclusion about it."
   ]
  },
  {
   "cell_type": "code",
   "execution_count": 26,
   "metadata": {},
   "outputs": [],
   "source": [
    "def Muestreo_estratificado(N:'Número de estratos'):\n",
    "    '''Función que regresa variables aleatorias generadas en N estratos'''\n",
    "    B = N\n",
    "    U2 = np.random.rand(B)\n",
    "    i = np.arange(0,B)\n",
    "    v = (U2+i)/B\n",
    "    return v"
   ]
  },
  {
   "cell_type": "code",
   "execution_count": 27,
   "metadata": {},
   "outputs": [
    {
     "name": "stdout",
     "output_type": "stream",
     "text": [
      "Estimacíon de la media para 2 estratos es 0.0265\n",
      "Estimacíon de la media para 4 estratos es -0.0520\n",
      "Estimacíon de la media para 6 estratos es 0.0654\n",
      "Estimacíon de la media para 10 estratos es 0.0139\n"
     ]
    }
   ],
   "source": [
    "# Método muestreo estratificado (B estratos)\n",
    "np.random.seed(5555)\n",
    "# Cantidad de estratos\n",
    "B = [2,4,6,10]\n",
    "\n",
    "# Creo la cantidad de muestras para casa estrato \n",
    "muestras = list(map(Muestreo_estratificado,B))\n",
    "\n",
    "# Evalúo las muestras creadas y creo dos map por que la variable 'muestras' \n",
    "# es una lista de listas y necesito llamar la función xi término a \n",
    "# término, por que si le ingreso una lista tira error\n",
    "aleatorios_f = list(map(lambda m_i:list(map(lambda m:xi(m),m_i)),muestras))\n",
    "\n",
    "# Calculo la media para cada estrato\n",
    "mean_estratos = list(map(lambda ei:np.mean(ei),aleatorios_f))\n",
    "\n",
    "# imprimo los resultados obtenidos para cada estrato\n",
    "impres = list(map(lambda bi,mean:print('Estimacíon de la media para %i estratos es %2.4f'\n",
    "                         %(bi,mean)),B,mean_estratos))\n",
    "# mean_estratos"
   ]
  },
  {
   "cell_type": "markdown",
   "metadata": {},
   "source": [
    "Se concluye que el método estratificado hace que la media se aproxime más que el método crudo. Para esta función, no se observó una tendencia en la mejora de la media de acuerdo al aumento de los estratos, pero no es concluyente ya que el máximo de estratos fue de 10 en todos los casos. Finalmente se observó que el método que logró la media de forma exacta fue el de los números complementarios, ya que como la función es cuadrática y simetrica los complementos \"neutralizan\" a sus opuestos complementarios haciendo que la media sea de 0.0 exactamente."
   ]
  },
  {
   "cell_type": "markdown",
   "metadata": {},
   "source": [
    "## Ejemplo de aplicación:\n",
    "\n",
    "Consider the probability distribution whose probability density function is:\n",
    "$$f(x) = \\begin{cases}\\frac{1}{x^{2}}, &1\\leq x \\\\ 0,& x < 1 \\end{cases}$$\n",
    "The problem is to perform a simulated experiment. with the help of varaince-reducing techniques, for estimating the mean of this distribution. To provide a standard of comparison, also derive the mean analytically.\n",
    "For each of the following cases, use the same 10 uniform random numbers (obtained as instructed at the beginning od the Problems section) to generate random observations, and caalculate the resulting estimate of the mean.\n",
    "> 1. Use the crude Monte Carlo Technique\n",
    "> 2. Use stratified sampling with three strata $0 \\leq F(x) \\leq 0.6, 0.6 \\leq F(x) \\leq 0.9, 0.9 \\leq F(x) \\leq 1 $, with 3, 3, 4 observations, respectively.\n",
    "> 3. Use the method of complementary random numbers.\n",
    "> 4. Use the stratification method with B strats, as seen before and compare the results with points 1, 2 and 3, using 2, 4, 6, 10 strats. give a conclusion about it."
   ]
  },
  {
   "cell_type": "markdown",
   "metadata": {},
   "source": [
    "Se tiene que $f(x) = \\begin{cases}\\frac{1}{x^{2}}, &1\\leq x \\\\ 0,& x < 1 \\end{cases}$\n",
    "\n",
    "El valor esperado de $f(x)$ esta dado por: \n",
    "$$E[x] = \\int_{-\\infty}^{-\\infty} x f(x) dx = \\int_{1}^{\\infty} x \\frac{1}{x^{2}}dx = \\int_{1}^{\\infty} \\frac{1}{x} dx = \\ln{x} \\Big|_{1}^{\\infty} = \\infty - 0 = \\infty $$\n",
    "\n",
    "La función de distribución acumulada sería:\n",
    "$$F(x) =  \\int_{-\\infty}^{x} f(x) dx = \\int_{1}^{x} \\frac{1}{x^{2}} dx = -\\frac{1}{x} \\Big|_{1}^{x} = \\frac{-1}{x} + 1 $$\n",
    "\n",
    "Método de la transformada inversa:\n",
    "$$y = \\frac{-1}{x} + 1 \\longrightarrow 1 - y = \\frac{1}{x} \\longrightarrow x = \\frac{1}{1 - y}$$\n",
    "\n",
    "Que está definida de la siguiente forma  $0 < y < 1$ "
   ]
  },
  {
   "cell_type": "code",
   "execution_count": 58,
   "metadata": {},
   "outputs": [
    {
     "data": {
      "image/png": "[encoded data removed]",
      "text/plain": [
       "<Figure size 432x288 with 1 Axes>"
      ]
     },
     "metadata": {},
     "output_type": "display_data"
    }
   ],
   "source": [
    "# Número de muestras a generar \n",
    "np.random.seed(1000)\n",
    "N2 = 100\n",
    "# Función obtenida usando transformada inversa\n",
    "xi = lambda u: 1/(1-u) if u<1 else 0\n",
    "f = lambda x: 1/(x**2) if x>=1 else 0\n",
    "# Validación de la función creada\n",
    "x = np.arange(-1,100,0.1)\n",
    "plt.plot(x,list(map(f,x)))\n",
    "u = np.random.rand(N2)\n",
    "randon_f = list(map(xi,u))\n",
    "plt.hist(randon_f,50,density=True)\n",
    "plt.title('Validación de la distribución creada')\n",
    "plt.show()"
   ]
  },
  {
   "cell_type": "markdown",
   "metadata": {},
   "source": [
    "1. Use the crude Monte Carlo Technique"
   ]
  },
  {
   "cell_type": "code",
   "execution_count": 63,
   "metadata": {},
   "outputs": [
    {
     "name": "stdout",
     "output_type": "stream",
     "text": [
      "Estimacíon de la media = 4.549694690561948\n"
     ]
    }
   ],
   "source": [
    "np.random.seed(1000)\n",
    "N = 10\n",
    "# Usando montecarlo crudo\n",
    "u1 = np.random.rand(N)\n",
    "mean_mon_crudo = np.mean(list(map(xi,u1)))\n",
    "print('Estimacíon de la media =',mean_mon_crudo)"
   ]
  },
  {
   "cell_type": "markdown",
   "metadata": {},
   "source": [
    "2. Use stratified sampling with three strata $0 \\leq F(x) \\leq 0.6, 0.6 \\leq F(x) \\leq 0.9, 0.9 \\leq F(x) \\leq 1 $, with 3, 3, 4 observations, respectively."
   ]
  },
  {
   "cell_type": "code",
   "execution_count": 64,
   "metadata": {},
   "outputs": [
    {
     "name": "stdout",
     "output_type": "stream",
     "text": [
      "Estimacíon de la media = 5.002450100423792\n"
     ]
    }
   ],
   "source": [
    "# Usando muestreo estratificado 1\n",
    "np.random.seed(1000)\n",
    "r1 = np.random.uniform(0,0.6,3)\n",
    "r2 = np.random.uniform(0.6,0.9,3)\n",
    "r3 = np.random.uniform(0.9,1,4)\n",
    "r  = [r1,r2,r3]\n",
    "m  = range(len(r))  # Cantidad de estratos\n",
    "w  = [1/2,1,4]\n",
    "estrat1 = list(map(lambda r:np.array(list(map(xi,r))),r))\n",
    "muestras = list(map(lambda wi,xi:xi/wi,w,estrat1))\n",
    "print('Estimacíon de la media =',np.concatenate(muestras).mean())"
   ]
  },
  {
   "cell_type": "markdown",
   "metadata": {},
   "source": [
    "3. Use the method of complementary random numbers."
   ]
  },
  {
   "cell_type": "code",
   "execution_count": 65,
   "metadata": {},
   "outputs": [
    {
     "name": "stdout",
     "output_type": "stream",
     "text": [
      "Estimacíon de la media = 4.863166289776404\n"
     ]
    }
   ],
   "source": [
    "u_comp = 1-u1\n",
    "mean_aux = np.mean(list(map(xi,u_comp)))\n",
    "mean_nume_compleme = (mean_mon_crudo+mean_aux)/2\n",
    "print('Estimacíon de la media =',mean_nume_compleme)"
   ]
  },
  {
   "cell_type": "markdown",
   "metadata": {},
   "source": [
    "4. Use the stratification method with B strats, as seen before and compare the results with points 1, 2 and 3, using 2, 4, 6, 10 strats. give a conclusion about it."
   ]
  },
  {
   "cell_type": "code",
   "execution_count": 66,
   "metadata": {},
   "outputs": [
    {
     "name": "stdout",
     "output_type": "stream",
     "text": [
      "Estimacíon de la media para 2 estratos es 1.8727\n",
      "Estimacíon de la media para 4 estratos es 2.8815\n",
      "Estimacíon de la media para 6 estratos es 5.5547\n",
      "Estimacíon de la media para 10 estratos es 57.8028\n"
     ]
    }
   ],
   "source": [
    "# Método muestreo estratificado (B estratos)\n",
    "np.random.seed(1000)\n",
    "# Cantidad de estratos\n",
    "B = [2,4,6,10]\n",
    "\n",
    "# Creo la cantidad de muestras para casa estrato \n",
    "muestras = list(map(Muestreo_estratificado,B))\n",
    "\n",
    "# Evalúo las muestras creadas y creo dos map por que la variable 'muestras' \n",
    "# es una lista de listas y necesito llamar la función xi término a \n",
    "# término, por que si le ingreso una lista tira error\n",
    "aleatorios_f = list(map(lambda m_i:list(map(lambda m:xi(m),m_i)),muestras))\n",
    "\n",
    "# Calculo la media para cada estrato\n",
    "mean_estratos = list(map(lambda ei:np.mean(ei),aleatorios_f))\n",
    "\n",
    "# imprimo los resultados obtenidos para cada estrato\n",
    "impres = list(map(lambda bi,mean:print('Estimacíon de la media para %i estratos es %2.4f'\n",
    "                         %(bi,mean)),B,mean_estratos))\n",
    "# mean_estratos"
   ]
  },
  {
   "cell_type": "markdown",
   "metadata": {},
   "source": [
    "Se concluye que la media de $\\infty$ no es aproximada por ninguno de los métodos anteriores ya que los decimales que dan las funciones aleatorias no son suficientes para que los valores de $f(x)$ se aproximen al infinito, sin embargo, se obserba que los valores de la media se alejan cada vez más del cero entre más se incrementan los estratos del método montecarlo. El método de números complementarios no tiene mucha aplicación para este caso ya que no es simétrica, en su lugar es más de tipo logarítmica."
   ]
  }
 ],
 "metadata": {
  "kernelspec": {
   "display_name": "Python 3",
   "language": "python",
   "name": "python3"
  },
  "language_info": {
   "codemirror_mode": {
    "name": "ipython",
    "version": 3
   },
   "file_extension": ".py",
   "mimetype": "text/x-python",
   "name": "python",
   "nbconvert_exporter": "python",
   "pygments_lexer": "ipython3",
   "version": "3.6.5"
  }
 },
 "nbformat": 4,
 "nbformat_minor": 2
}
